{
 "cells": [
  {
   "cell_type": "markdown",
   "metadata": {
    "colab_type": "text",
    "id": "n6hBAGGjyZBw"
   },
   "source": [
    "## Boolean Indexing"
   ]
  },
  {
   "cell_type": "code",
   "execution_count": null,
   "metadata": {
    "colab": {},
    "colab_type": "code",
    "id": "HDnmwI_HyZB_"
   },
   "outputs": [],
   "source": [
    "import pandas as pd\n",
    "import numpy as np"
   ]
  },
  {
   "cell_type": "code",
   "execution_count": null,
   "metadata": {
    "colab": {},
    "colab_type": "code",
    "id": "z0VrcXaPyZCc",
    "outputId": "53b84a22-813f-44eb-dffb-204de10e83e6"
   },
   "outputs": [],
   "source": [
    "movie = pd.read_csv('data/movie.csv', index_col='movie_title')\n",
    "movie.head()"
   ]
  },
  {
   "cell_type": "code",
   "execution_count": null,
   "metadata": {
    "colab": {},
    "colab_type": "code",
    "id": "CFkZFcPTyZC7",
    "outputId": "a15282a7-6cea-461c-99c1-9cc1400bc715"
   },
   "outputs": [],
   "source": [
    "movie_2_hours = movie['duration'] > 120\n",
    "movie_2_hours.head(10)"
   ]
  },
  {
   "cell_type": "code",
   "execution_count": null,
   "metadata": {
    "colab": {},
    "colab_type": "code",
    "id": "TcFfmgxtyZDe",
    "outputId": "7e5a3fb2-8781-4aac-ce9e-5bb4ac130a5e"
   },
   "outputs": [],
   "source": [
    "movie_2_hours.sum()"
   ]
  },
  {
   "cell_type": "code",
   "execution_count": null,
   "metadata": {
    "colab": {},
    "colab_type": "code",
    "id": "3Y6GptkUyZEB",
    "outputId": "1fa677b7-1783-46d8-e53e-06d34ea091d0"
   },
   "outputs": [],
   "source": [
    "movie_2_hours.mean()"
   ]
  },
  {
   "cell_type": "code",
   "execution_count": null,
   "metadata": {
    "colab": {},
    "colab_type": "code",
    "id": "9pvAUrp1yZEd",
    "outputId": "ce102ed5-9710-49f7-b71d-5fc8d155e76a"
   },
   "outputs": [],
   "source": [
    "movie['duration'].dropna().gt(120).mean()"
   ]
  },
  {
   "cell_type": "code",
   "execution_count": null,
   "metadata": {
    "colab": {},
    "colab_type": "code",
    "id": "KB3XVpTwyZE6",
    "outputId": "6eaf9642-c12d-49c4-8590-047a3220133c"
   },
   "outputs": [],
   "source": [
    "movie_2_hours.describe()"
   ]
  },
  {
   "cell_type": "code",
   "execution_count": null,
   "metadata": {
    "colab": {},
    "colab_type": "code",
    "id": "9KhQHZWuyZFa",
    "outputId": "7e387da3-c3e6-47af-df1a-0a0a21a48aa6"
   },
   "outputs": [],
   "source": [
    "actors = movie[['actor_1_facebook_likes','actor_2_facebook_likes']].dropna()\n",
    "(actors['actor_1_facebook_likes'] >\n",
    "actors['actor_2_facebook_likes']).mean()"
   ]
  },
  {
   "cell_type": "code",
   "execution_count": null,
   "metadata": {
    "colab": {},
    "colab_type": "code",
    "id": "566eIWIdyZFz",
    "outputId": "98aee12d-f681-4d5b-a294-e9b8cc49f7bf"
   },
   "outputs": [],
   "source": [
    "criteria1 = movie.imdb_score > 8\n",
    "criteria2 = movie.content_rating == 'PG-13'\n",
    "criteria3 = ((movie.title_year < 2000) |(movie.title_year > 2009))\n",
    "criteria2.head()"
   ]
  },
  {
   "cell_type": "code",
   "execution_count": null,
   "metadata": {
    "colab": {},
    "colab_type": "code",
    "id": "hyeaIARfyZGe",
    "outputId": "9214ad04-14cd-41d9-9ff6-7bbcd5d567da"
   },
   "outputs": [],
   "source": [
    "criteria_final = criteria1 & criteria2 & criteria3\n",
    "criteria_final.head()"
   ]
  },
  {
   "cell_type": "code",
   "execution_count": null,
   "metadata": {
    "colab": {},
    "colab_type": "code",
    "id": "usIOjM-DyZHJ"
   },
   "outputs": [],
   "source": [
    "crit_a1 = movie.imdb_score > 8\n",
    "crit_a2 = movie.content_rating == 'PG-13'\n",
    "crit_a3 = (movie.title_year < 2000) | (movie.title_year > 2009)\n",
    "final_crit_a = crit_a1 & crit_a2 & crit_a3"
   ]
  },
  {
   "cell_type": "code",
   "execution_count": null,
   "metadata": {
    "colab": {},
    "colab_type": "code",
    "id": "A-orjoqayZH2"
   },
   "outputs": [],
   "source": [
    "crit_b1 = movie.imdb_score < 5\n",
    "crit_b2 = movie.content_rating == 'R'\n",
    "crit_b3 = ((movie.title_year >= 2000) & (movie.title_year <= 2010))\n",
    "final_crit_b = crit_b1 & crit_b2 & crit_b3"
   ]
  },
  {
   "cell_type": "code",
   "execution_count": null,
   "metadata": {
    "colab": {},
    "colab_type": "code",
    "id": "IQDJ6PDsyZIE",
    "outputId": "b0de2202-0eeb-4040-e0e4-79725b2a5445"
   },
   "outputs": [],
   "source": [
    "final_crit_all = final_crit_a | final_crit_b\n",
    "final_crit_all.head()"
   ]
  },
  {
   "cell_type": "code",
   "execution_count": null,
   "metadata": {
    "colab": {},
    "colab_type": "code",
    "id": "RMql0DwcyZIn",
    "outputId": "e5821de4-058a-4f9a-b866-634a01230f95"
   },
   "outputs": [],
   "source": [
    "movie[final_crit_all].head()"
   ]
  },
  {
   "cell_type": "code",
   "execution_count": null,
   "metadata": {
    "colab": {},
    "colab_type": "code",
    "id": "BDYwZp5vyZJK",
    "outputId": "0ed6927c-1830-44e3-c225-880afebf197a"
   },
   "outputs": [],
   "source": [
    "cols = ['imdb_score', 'content_rating', 'title_year']\n",
    "movie_filtered = movie.loc[final_crit_all, cols]\n",
    "movie_filtered.head(10)"
   ]
  },
  {
   "cell_type": "code",
   "execution_count": null,
   "metadata": {
    "colab": {},
    "colab_type": "code",
    "id": "R5TIcB6MyZJg",
    "outputId": "6dba08c8-a7da-45be-b71b-d8b425a0ab9b"
   },
   "outputs": [],
   "source": [
    "college = pd.read_csv('data/college.csv')\n",
    "college[college['STABBR'] == 'TX'].head()"
   ]
  },
  {
   "cell_type": "code",
   "execution_count": null,
   "metadata": {
    "colab": {},
    "colab_type": "code",
    "id": "dc-sDqfyyZJz",
    "outputId": "a66527c6-821a-4910-b18f-b66c667e9d3f"
   },
   "outputs": [],
   "source": [
    "college2 = college.set_index('STABBR')\n",
    "college2.loc['TX'].head()"
   ]
  },
  {
   "cell_type": "code",
   "execution_count": null,
   "metadata": {
    "colab": {},
    "colab_type": "code",
    "id": "xbuRTHPcyZKY",
    "outputId": "5ab00021-204b-44eb-f783-6b7b8f2b27dd"
   },
   "outputs": [],
   "source": [
    "college = pd.read_csv('data/college.csv')\n",
    "college2 = college.set_index('STABBR')\n",
    "college2.index.is_monotonic"
   ]
  },
  {
   "cell_type": "code",
   "execution_count": null,
   "metadata": {
    "colab": {},
    "colab_type": "code",
    "id": "IHLIieajyZKu",
    "outputId": "63307ff9-a9fa-482e-bb8a-f351021389a0"
   },
   "outputs": [],
   "source": [
    "college3 = college2.sort_index()\n",
    "college3.index.is_monotonic"
   ]
  },
  {
   "cell_type": "code",
   "execution_count": null,
   "metadata": {
    "colab": {},
    "colab_type": "code",
    "id": "ldh_5lXhyZLT",
    "outputId": "4aae1dfd-783e-4329-d050-2279d4bada8a"
   },
   "outputs": [],
   "source": [
    "%timeit college[college['STABBR'] == 'TX']"
   ]
  },
  {
   "cell_type": "code",
   "execution_count": null,
   "metadata": {
    "colab": {},
    "colab_type": "code",
    "id": "p5AMQ5fwyZLw",
    "outputId": "26e7096c-2bab-4967-83fc-c831d90a2367"
   },
   "outputs": [],
   "source": [
    "%timeit college2.loc['TX']"
   ]
  },
  {
   "cell_type": "code",
   "execution_count": null,
   "metadata": {
    "colab": {},
    "colab_type": "code",
    "id": "vB1mHqM1yZMD",
    "outputId": "e2df4b6c-af01-4ae1-a462-cf616db303d0"
   },
   "outputs": [],
   "source": [
    "%timeit college3.loc['TX']"
   ]
  },
  {
   "cell_type": "code",
   "execution_count": null,
   "metadata": {
    "colab": {},
    "colab_type": "code",
    "id": "hIKErLEhyZMs",
    "outputId": "b5838bad-2fdf-4f45-c040-da881c4c0885"
   },
   "outputs": [],
   "source": [
    "college_unique = college.set_index('INSTNM')\n",
    "college_unique.index.is_unique"
   ]
  },
  {
   "cell_type": "code",
   "execution_count": null,
   "metadata": {
    "colab": {},
    "colab_type": "code",
    "id": "EKWtWUJoyZNp",
    "outputId": "535f0d69-6468-459c-9f54-46431ae4bc61"
   },
   "outputs": [],
   "source": [
    "college[college['INSTNM'] == 'Stanford University']"
   ]
  },
  {
   "cell_type": "code",
   "execution_count": null,
   "metadata": {
    "colab": {},
    "colab_type": "code",
    "id": "PxahGOtQyZOC",
    "outputId": "f551685f-1fbe-48a2-a1e6-4e098147c2d7"
   },
   "outputs": [],
   "source": [
    "college_unique.loc['Stanford University']"
   ]
  },
  {
   "cell_type": "code",
   "execution_count": null,
   "metadata": {
    "colab": {},
    "colab_type": "code",
    "id": "WvNFK-KDyZPB",
    "outputId": "f7003884-cd64-4415-f955-69fa1013cd81"
   },
   "outputs": [],
   "source": [
    "college.index = college['CITY'] + ', ' + college['STABBR']\n",
    "college = college.sort_index()\n",
    "college.head()"
   ]
  },
  {
   "cell_type": "code",
   "execution_count": null,
   "metadata": {
    "colab": {},
    "colab_type": "code",
    "id": "ApMuPfMEyZPq",
    "outputId": "21cbcf3e-9eee-4101-ca8e-e328a8863b9d"
   },
   "outputs": [],
   "source": [
    "slb = pd.read_csv('data/slb_stock.csv', index_col='Date',\n",
    "parse_dates=['Date'])\n",
    "slb.head()"
   ]
  },
  {
   "cell_type": "code",
   "execution_count": null,
   "metadata": {
    "colab": {},
    "colab_type": "code",
    "id": "IpUAnW73yZQM",
    "outputId": "224aa363-8c5c-48f5-cb2c-f4d6edd59e0c"
   },
   "outputs": [],
   "source": [
    "slb_close = slb['Close']\n",
    "slb_summary = slb_close.describe(percentiles=[.1, .9])\n",
    "slb_summary"
   ]
  },
  {
   "cell_type": "code",
   "execution_count": null,
   "metadata": {
    "colab": {},
    "colab_type": "code",
    "id": "_t_Z47WuyZRQ"
   },
   "outputs": [],
   "source": [
    "upper_10 = slb_summary.loc['90%']\n",
    "lower_10 = slb_summary.loc['10%']\n",
    "criteria = (slb_close < lower_10) | (slb_close > upper_10)\n",
    "slb_top_bottom_10 = slb_close[criteria]"
   ]
  },
  {
   "cell_type": "code",
   "execution_count": null,
   "metadata": {
    "colab": {},
    "colab_type": "code",
    "id": "hmvlO8jvyZRg",
    "outputId": "8ab26878-a884-479a-d787-dc1d94156e44"
   },
   "outputs": [],
   "source": [
    "import matplotlib\n",
    "%matplotlib inline\n",
    "slb_close.plot(color='black', figsize=(12,6))\n",
    "slb_top_bottom_10.plot(marker='o', style=' ',\n",
    "ms=4, color='lightgray')\n",
    "xmin = criteria.index[0]\n",
    "xmax = criteria.index[-1]\n",
    "plt.hlines(y=[lower_10, upper_10], xmin=xmin,\n",
    "xmax=xmax, color='black')"
   ]
  },
  {
   "cell_type": "code",
   "execution_count": null,
   "metadata": {
    "colab": {},
    "colab_type": "code",
    "id": "mOkccLbEyZTN",
    "outputId": "5351e151-7aed-47fb-c432-d7545ab36e26"
   },
   "outputs": [],
   "source": [
    "employee = pd.read_csv('data/employee.csv')\n",
    "employee.DEPARTMENT.value_counts().head()"
   ]
  },
  {
   "cell_type": "code",
   "execution_count": null,
   "metadata": {
    "colab": {},
    "colab_type": "code",
    "id": "qrzqc5DOyZUB",
    "outputId": "6f1fb4b3-930c-4ba8-bb1a-b24873e94c25"
   },
   "outputs": [],
   "source": [
    "employee.GENDER.value_counts()"
   ]
  },
  {
   "cell_type": "code",
   "execution_count": null,
   "metadata": {
    "colab": {},
    "colab_type": "code",
    "id": "TePgkWWqyZUo",
    "outputId": "bdfec043-ad2d-43d1-d044-4dee287726dc"
   },
   "outputs": [],
   "source": [
    "employee.BASE_SALARY.describe().astype(int)"
   ]
  },
  {
   "cell_type": "code",
   "execution_count": null,
   "metadata": {
    "colab": {},
    "colab_type": "code",
    "id": "MNaAz02xyZV-"
   },
   "outputs": [],
   "source": [
    "depts = ['Houston Police Department-HPD', \n",
    "             'Houston Fire Department (HFD)']\n",
    "criteria_dept = employee.DEPARTMENT.isin(depts)\n",
    "criteria_gender = employee.GENDER == 'Female'\n",
    "criteria_sal = (employee.BASE_SALARY >= 80000) & (employee.BASE_SALARY <= 120000)"
   ]
  },
  {
   "cell_type": "code",
   "execution_count": null,
   "metadata": {
    "colab": {},
    "colab_type": "code",
    "id": "qEgRD1bVyZWN"
   },
   "outputs": [],
   "source": [
    "criteria_final = criteria_dept & criteria_gender & criteria_sal"
   ]
  },
  {
   "cell_type": "code",
   "execution_count": null,
   "metadata": {
    "colab": {},
    "colab_type": "code",
    "id": "ULQ9t83GyZW3",
    "outputId": "d42b738a-b677-4a4e-dcfc-48c88a0394ed"
   },
   "outputs": [],
   "source": [
    "select_columns = ['UNIQUE_ID', 'DEPARTMENT', 'GENDER', 'BASE_SALARY']\n",
    "employee.loc[criteria_final, select_columns].head()"
   ]
  },
  {
   "cell_type": "code",
   "execution_count": null,
   "metadata": {
    "colab": {},
    "colab_type": "code",
    "id": "9n9eiB_-yZXz",
    "outputId": "87a1f44a-c246-4d3b-e45f-629ad6b4e5f3"
   },
   "outputs": [],
   "source": [
    "amzn = pd.read_csv('data/amzn_stock.csv', index_col='Date', parse_dates=['Date'])\n",
    "amzn.head()"
   ]
  },
  {
   "cell_type": "code",
   "execution_count": null,
   "metadata": {
    "colab": {},
    "colab_type": "code",
    "id": "AKT5IRgfyZYM",
    "outputId": "2ce98b66-606b-4906-8107-6c6f49105d2b"
   },
   "outputs": [],
   "source": [
    "amzn_daily_return = amzn.Close.pct_change()\n",
    "amzn_daily_return.head()"
   ]
  },
  {
   "cell_type": "code",
   "execution_count": null,
   "metadata": {
    "colab": {},
    "colab_type": "code",
    "id": "BCXRaANIyZY0",
    "outputId": "d3bb79a4-718f-489d-9022-bf378ee503b7"
   },
   "outputs": [],
   "source": [
    "amzn_daily_return = amzn_daily_return.dropna()\n",
    "amzn_daily_return.hist(bins=20)"
   ]
  },
  {
   "cell_type": "code",
   "execution_count": null,
   "metadata": {
    "colab": {},
    "colab_type": "code",
    "id": "OgvKSdg-yZZI"
   },
   "outputs": [],
   "source": [
    "mean = amzn_daily_return.mean()  \n",
    "std = amzn_daily_return.std()"
   ]
  },
  {
   "cell_type": "code",
   "execution_count": null,
   "metadata": {
    "colab": {},
    "colab_type": "code",
    "id": "Z68a3pJzyZZU"
   },
   "outputs": [],
   "source": [
    "abs_z_score = amzn_daily_return.sub(mean).abs().div(std)"
   ]
  },
  {
   "cell_type": "code",
   "execution_count": null,
   "metadata": {
    "colab": {},
    "colab_type": "code",
    "id": "h6gTMcnRyZZ5",
    "outputId": "22ea9b2b-1852-4261-8fcd-d1418240cba6"
   },
   "outputs": [],
   "source": [
    "pcts = [abs_z_score.lt(i).mean() for i in range(1,4)]\n",
    "print('{:.3f} fall within 1 standard deviation. '\n",
    "      '{:.3f} within 2 and {:.3f} within 3'.format(*pcts))"
   ]
  },
  {
   "cell_type": "code",
   "execution_count": null,
   "metadata": {
    "colab": {},
    "colab_type": "code",
    "id": "h0AMFj-DyZaJ"
   },
   "outputs": [],
   "source": [
    "def test_return_normality(stock_data):\n",
    "    close = stock_data['Close']\n",
    "    daily_return = close.pct_change().dropna()\n",
    "    daily_return.hist(bins=20)\n",
    "    mean = daily_return.mean() \n",
    "    std = daily_return.std()\n",
    "    \n",
    "    abs_z_score = abs(daily_return - mean) / std\n",
    "    pcts = [abs_z_score.lt(i).mean() for i in range(1,4)]\n",
    "\n",
    "    print('{:.3f} fall within 1 standard deviation. '\n",
    "          '{:.3f} within 2 and {:.3f} within 3'.format(*pcts))"
   ]
  },
  {
   "cell_type": "code",
   "execution_count": null,
   "metadata": {
    "colab": {},
    "colab_type": "code",
    "id": "j79MAy4SyZaj",
    "outputId": "7d9f0c20-74ca-4cfd-e10e-c87b3d4fca63"
   },
   "outputs": [],
   "source": [
    "slb = pd.read_csv('slb_stock.csv', \n",
    "                  index_col='Date', parse_dates=['Date'])\n",
    "test_return_normality(slb)"
   ]
  },
  {
   "cell_type": "code",
   "execution_count": null,
   "metadata": {
    "colab": {},
    "colab_type": "code",
    "id": "xsuJy2IHyZa4"
   },
   "outputs": [],
   "source": [
    "employee = pd.read_csv('employee.csv')\n",
    "depts = ['Houston Police Department-HPD', 'Houston Fire Department (HFD)']\n",
    "select_columns = ['UNIQUE_ID', 'DEPARTMENT', 'GENDER', 'BASE_SALARY']"
   ]
  },
  {
   "cell_type": "code",
   "execution_count": null,
   "metadata": {
    "colab": {},
    "colab_type": "code",
    "id": "6kvJ-VN4yZbK",
    "outputId": "d5126223-dbf0-44c0-f8b2-4b2793de7f82"
   },
   "outputs": [],
   "source": [
    "qs = \"DEPARTMENT in @depts \" \\\n",
    "         \"and GENDER == 'Female' \" \\\n",
    "         \"and 80000 <= BASE_SALARY <= 120000\"\n",
    "        \n",
    "emp_filtered = employee.query(qs)\n",
    "emp_filtered[select_columns].head()"
   ]
  },
  {
   "cell_type": "code",
   "execution_count": null,
   "metadata": {
    "colab": {},
    "colab_type": "code",
    "id": "0JhR-mdbyZbk",
    "outputId": "eed89d3c-3884-432f-b1c5-f0e7a0de4223"
   },
   "outputs": [],
   "source": [
    "movie = pd.read_csv('movie.csv', index_col='movie_title')\n",
    "fb_likes = movie['actor_1_facebook_likes'].dropna()\n",
    "fb_likes.head()"
   ]
  },
  {
   "cell_type": "code",
   "execution_count": null,
   "metadata": {
    "colab": {},
    "colab_type": "code",
    "id": "9K8H3UDSyZb6",
    "outputId": "2bee8b83-d5d5-4342-95bd-6ecddf22ad48"
   },
   "outputs": [],
   "source": [
    "fb_likes.describe(percentiles=[.1, .25, .5, .75, .9]).astype(int)"
   ]
  },
  {
   "cell_type": "code",
   "execution_count": null,
   "metadata": {
    "colab": {},
    "colab_type": "code",
    "id": "2aFJSfk2yZcT",
    "outputId": "3449b039-7d57-4dd2-bd9b-b4c7028e96d8"
   },
   "outputs": [],
   "source": [
    "fb_likes.describe(percentiles=[.1,.25,.5,.75,.9])"
   ]
  },
  {
   "cell_type": "code",
   "execution_count": null,
   "metadata": {
    "colab": {},
    "colab_type": "code",
    "id": "MfxoYDK6yZdL",
    "outputId": "7ed28098-00ef-48e3-fb04-d556390c5ff4"
   },
   "outputs": [],
   "source": [
    "fb_likes.hist()"
   ]
  },
  {
   "cell_type": "code",
   "execution_count": null,
   "metadata": {
    "colab": {},
    "colab_type": "code",
    "id": "AYtBXGdryZdf",
    "outputId": "335cf1bb-b910-4677-e375-b6d367afa69c"
   },
   "outputs": [],
   "source": [
    "criteria_high = fb_likes < 20000\n",
    "criteria_high.mean().round(2)"
   ]
  },
  {
   "cell_type": "code",
   "execution_count": null,
   "metadata": {
    "colab": {},
    "colab_type": "code",
    "id": "Zv6XYKd6yZeI",
    "outputId": "f5115d91-ad65-44d7-b583-c02368cfd0bf"
   },
   "outputs": [],
   "source": [
    "fb_likes.where(criteria_high).head()"
   ]
  },
  {
   "cell_type": "code",
   "execution_count": null,
   "metadata": {
    "colab": {},
    "colab_type": "code",
    "id": "9fI9-jRsyZef",
    "outputId": "78a48daf-9e9d-45f3-a4c7-d7d7f24ea18e"
   },
   "outputs": [],
   "source": [
    "fb_likes.where(criteria_high, other=20000).head()"
   ]
  },
  {
   "cell_type": "code",
   "execution_count": null,
   "metadata": {
    "colab": {},
    "colab_type": "code",
    "id": "FyFXUg_WyZfU",
    "outputId": "8b92b16d-c483-4e40-8334-37d3561426ac"
   },
   "outputs": [],
   "source": [
    "criteria_low = fb_likes > 300\n",
    "fb_likes_cap = fb_likes.where(criteria_high, other=20000)\\\n",
    "                       .where(criteria_low, 300)\n",
    "fb_likes_cap.head()"
   ]
  },
  {
   "cell_type": "code",
   "execution_count": null,
   "metadata": {
    "colab": {},
    "colab_type": "code",
    "id": "yjEOpbjuyZgO",
    "outputId": "6fb329ca-59b3-4f6e-e4f6-47d0e2ef5bb6"
   },
   "outputs": [],
   "source": [
    "len(fb_likes), len(fb_likes_cap)"
   ]
  },
  {
   "cell_type": "code",
   "execution_count": null,
   "metadata": {
    "colab": {},
    "colab_type": "code",
    "id": "csRJPfx7yZia",
    "outputId": "6d47ba9a-05c2-432f-d795-2b2c605496b6"
   },
   "outputs": [],
   "source": [
    "fb_likes_cap.hist()"
   ]
  },
  {
   "cell_type": "code",
   "execution_count": null,
   "metadata": {
    "colab": {},
    "colab_type": "code",
    "id": "W0Dre8Q-yZi6",
    "outputId": "e3eafad6-255a-4905-b7fa-abac10aa769f"
   },
   "outputs": [],
   "source": [
    "fb_likes_cap2 = fb_likes.clip(lower=300, upper=20000)\n",
    "fb_likes_cap2.equals(fb_likes_cap)"
   ]
  },
  {
   "cell_type": "code",
   "execution_count": null,
   "metadata": {
    "colab": {},
    "colab_type": "code",
    "id": "zzAxPKwDyZjl"
   },
   "outputs": [],
   "source": [
    "movie = pd.read_csv('movie.csv', index_col='movie_title')\n",
    "c1 = movie['title_year'] >= 2010\n",
    "c2 = movie['title_year'].isnull()\n",
    "criteria = c1 | c2"
   ]
  },
  {
   "cell_type": "code",
   "execution_count": null,
   "metadata": {
    "colab": {},
    "colab_type": "code",
    "id": "iZ_qA9h7yZjv",
    "outputId": "22215e5a-0e8a-4fdf-f2f1-e8427f364b24"
   },
   "outputs": [],
   "source": [
    "movie.mask(criteria).head()"
   ]
  },
  {
   "cell_type": "code",
   "execution_count": null,
   "metadata": {
    "colab": {},
    "colab_type": "code",
    "id": "EBYON_s8yZkO",
    "outputId": "e636ca08-8b38-4748-a573-1f5e75e90b0c"
   },
   "outputs": [],
   "source": [
    "movie_mask = movie.mask(criteria).dropna(how='all')\n",
    "movie_mask.head()"
   ]
  },
  {
   "cell_type": "code",
   "execution_count": null,
   "metadata": {
    "colab": {},
    "colab_type": "code",
    "id": "WFT93TDzyZlS",
    "outputId": "c7b48a45-02c5-47bb-9e2d-cf4de1bbe32e"
   },
   "outputs": [],
   "source": [
    "movie_boolean = movie[movie['title_year'] < 2010]\n",
    "movie_boolean.head()"
   ]
  },
  {
   "cell_type": "code",
   "execution_count": null,
   "metadata": {
    "colab": {},
    "colab_type": "code",
    "id": "oWcc2EjwyZlv",
    "outputId": "0e6e64a1-9994-4609-cdb4-44a6b43192c6"
   },
   "outputs": [],
   "source": [
    "movie_mask.equals(movie_boolean)"
   ]
  },
  {
   "cell_type": "code",
   "execution_count": null,
   "metadata": {
    "colab": {},
    "colab_type": "code",
    "id": "7TekrTngyZmU",
    "outputId": "c328fcc6-ae1d-4f08-cba6-8f99605c2528"
   },
   "outputs": [],
   "source": [
    "movie_mask.shape == movie_boolean.shape"
   ]
  },
  {
   "cell_type": "code",
   "execution_count": null,
   "metadata": {
    "colab": {},
    "colab_type": "code",
    "id": "rH_bVbRxyZnD",
    "outputId": "810b9e16-697c-4dd8-b745-6c08ed4d6b9b"
   },
   "outputs": [],
   "source": [
    "movie_mask.dtypes == movie_boolean.dtypes"
   ]
  },
  {
   "cell_type": "code",
   "execution_count": null,
   "metadata": {
    "colab": {},
    "colab_type": "code",
    "id": "gsFASHLxyZnh"
   },
   "outputs": [],
   "source": [
    "movie = pd.read_csv('movie.csv', index_col='movie_title')\n",
    "c1 = movie['content_rating'] == 'G'\n",
    "c2 = movie['imdb_score'] < 4\n",
    "criteria = c1 & c2"
   ]
  },
  {
   "cell_type": "code",
   "execution_count": null,
   "metadata": {
    "colab": {},
    "colab_type": "code",
    "id": "WUHQBx2GyZn3",
    "outputId": "93bb584e-de6c-440d-9a54-4415f67569d3"
   },
   "outputs": [],
   "source": [
    "movie_loc = movie.loc[criteria]\n",
    "movie_loc.head()"
   ]
  },
  {
   "cell_type": "code",
   "execution_count": null,
   "metadata": {
    "colab": {},
    "colab_type": "code",
    "id": "mcN96XQ1yZoF",
    "outputId": "fd4e28a4-03da-4c83-92f2-e8935cb7a47c"
   },
   "outputs": [],
   "source": [
    "movie_loc.equals(movie[criteria])"
   ]
  },
  {
   "cell_type": "code",
   "execution_count": null,
   "metadata": {
    "colab": {},
    "colab_type": "code",
    "id": "qGu1XYpTyZo5"
   },
   "outputs": [],
   "source": [
    "movie_iloc = movie.iloc[criteria.values]"
   ]
  },
  {
   "cell_type": "code",
   "execution_count": null,
   "metadata": {
    "colab": {},
    "colab_type": "code",
    "id": "2SdpyDDoyZpD",
    "outputId": "c4a49ca0-f3e6-484e-dd23-8a8f588c92d4"
   },
   "outputs": [],
   "source": [
    "movie_iloc.equals(movie_loc)"
   ]
  },
  {
   "cell_type": "code",
   "execution_count": null,
   "metadata": {
    "colab": {},
    "colab_type": "code",
    "id": "khoxLaT-yZpZ",
    "outputId": "9d49fbcd-ea51-4982-b461-f69c0ef28e9c"
   },
   "outputs": [],
   "source": [
    "movie.loc[criteria.values]"
   ]
  },
  {
   "cell_type": "code",
   "execution_count": null,
   "metadata": {
    "colab": {},
    "colab_type": "code",
    "id": "Q2BpqVTxyZpm",
    "outputId": "83dfafdf-f468-4785-bf58-579b64074714"
   },
   "outputs": [],
   "source": [
    "criteria_col = movie.dtypes == np.int64\n",
    "criteria_col.head()"
   ]
  },
  {
   "cell_type": "code",
   "execution_count": null,
   "metadata": {
    "colab": {},
    "colab_type": "code",
    "id": "xPMz1JFVyZpx",
    "outputId": "c0f39ac6-c118-441a-cacb-a643920ffc9c"
   },
   "outputs": [],
   "source": [
    "movie.loc[:, criteria_col].head()"
   ]
  },
  {
   "cell_type": "code",
   "execution_count": null,
   "metadata": {
    "colab": {},
    "colab_type": "code",
    "id": "iYCCk7-9yZqA",
    "outputId": "abdf4302-58a5-4181-b640-960fad62cb77"
   },
   "outputs": [],
   "source": [
    "movie.iloc[:, criteria_col.values].head()"
   ]
  },
  {
   "cell_type": "code",
   "execution_count": null,
   "metadata": {
    "colab": {},
    "colab_type": "code",
    "id": "FO-YjUbvyZqR",
    "outputId": "22ec8a95-af81-44a5-9395-0210c8d187cb"
   },
   "outputs": [],
   "source": [
    "cols = ['content_rating', 'imdb_score', 'title_year', 'gross']\n",
    "movie.loc[criteria, cols].sort_values('imdb_score')"
   ]
  },
  {
   "cell_type": "code",
   "execution_count": null,
   "metadata": {
    "colab": {},
    "colab_type": "code",
    "id": "SxH53R1oyZqd",
    "outputId": "835ea13c-e061-44c6-9794-572c3578905d"
   },
   "outputs": [],
   "source": [
    "col_index = [movie.columns.get_loc(col) for col in cols]\n",
    "col_index"
   ]
  },
  {
   "cell_type": "code",
   "execution_count": null,
   "metadata": {
    "colab": {},
    "colab_type": "code",
    "id": "FFGSY9PXyZqs",
    "outputId": "cb8d1550-5d7b-4b50-fb60-52c8f9b618a7"
   },
   "outputs": [],
   "source": [
    "movie.iloc[criteria.values, col_index].sort_values('imdb_score')"
   ]
  },
  {
   "cell_type": "code",
   "execution_count": null,
   "metadata": {
    "colab": {},
    "colab_type": "code",
    "id": "l555gPE4yZq4"
   },
   "outputs": [],
   "source": []
  },
  {
   "cell_type": "code",
   "execution_count": null,
   "metadata": {
    "colab": {},
    "colab_type": "code",
    "id": "k7Fp6tN_yZrR",
    "outputId": "6a38a0fa-9965-4ce2-902a-295756faca11"
   },
   "outputs": [],
   "source": [
    "columns = college.columns\n",
    "columns"
   ]
  },
  {
   "cell_type": "code",
   "execution_count": null,
   "metadata": {
    "colab": {},
    "colab_type": "code",
    "id": "HDryLnBZyZrg",
    "outputId": "7dffe9f8-3bce-47d0-c2de-ee5fd281dab3"
   },
   "outputs": [],
   "source": [
    "columns.values"
   ]
  },
  {
   "cell_type": "code",
   "execution_count": null,
   "metadata": {
    "colab": {},
    "colab_type": "code",
    "id": "c4pLHLUoyZr2",
    "outputId": "9c5ead3d-8b74-4804-ca3c-5bad92a5f32a"
   },
   "outputs": [],
   "source": [
    "columns[5]"
   ]
  },
  {
   "cell_type": "code",
   "execution_count": null,
   "metadata": {
    "colab": {},
    "colab_type": "code",
    "id": "HfMQI5iFyZsk",
    "outputId": "50446a25-ab0c-4303-bf1f-3d492163f952"
   },
   "outputs": [],
   "source": [
    "columns[[1,8,10]]"
   ]
  },
  {
   "cell_type": "code",
   "execution_count": null,
   "metadata": {
    "colab": {},
    "colab_type": "code",
    "id": "sXkLYTKOyZsy",
    "outputId": "112053ec-2337-45eb-82a3-79011f35af58"
   },
   "outputs": [],
   "source": [
    "columns[-7:-4]"
   ]
  },
  {
   "cell_type": "code",
   "execution_count": null,
   "metadata": {
    "colab": {},
    "colab_type": "code",
    "id": "fvdLpxsOyZtI",
    "outputId": "980e7359-891b-4c01-ffbe-9ee0167292a3"
   },
   "outputs": [],
   "source": [
    "columns.min(), columns.max(), columns.isnull().sum()"
   ]
  },
  {
   "cell_type": "code",
   "execution_count": null,
   "metadata": {
    "colab": {},
    "colab_type": "code",
    "id": "6RkcNFTsyZtV",
    "outputId": "62f5c7d6-f5c3-47a1-d369-586cf70e2239"
   },
   "outputs": [],
   "source": [
    "columns + '_A'"
   ]
  },
  {
   "cell_type": "code",
   "execution_count": null,
   "metadata": {
    "colab": {},
    "colab_type": "code",
    "id": "MF1ZDIH0yZtk",
    "outputId": "f519d07d-9cdd-4757-c0f4-eb2351832319"
   },
   "outputs": [],
   "source": [
    "columns > 'G'"
   ]
  },
  {
   "cell_type": "code",
   "execution_count": null,
   "metadata": {
    "colab": {},
    "colab_type": "code",
    "id": "xyXs7e4kyZt5",
    "outputId": "82446647-de69-40b5-8dd8-0636fb496bd5"
   },
   "outputs": [],
   "source": [
    "s1 = pd.Series(index=list('aaab'), data=np.arange(4))\n",
    "s1"
   ]
  },
  {
   "cell_type": "code",
   "execution_count": null,
   "metadata": {
    "colab": {},
    "colab_type": "code",
    "id": "YrRzueaPyZuX",
    "outputId": "caf977f0-4d61-4d3a-d461-3c9031aa733a"
   },
   "outputs": [],
   "source": [
    "s2 = pd.Series(index=list('cababb'), data=np.arange(6))\n",
    "s2"
   ]
  },
  {
   "cell_type": "code",
   "execution_count": null,
   "metadata": {
    "colab": {},
    "colab_type": "code",
    "id": "D50etPFZyZvF",
    "outputId": "66cb0cc4-15d9-4e88-be13-f418bb4bfa3a"
   },
   "outputs": [],
   "source": [
    ">>> s1 + s2"
   ]
  },
  {
   "cell_type": "code",
   "execution_count": null,
   "metadata": {
    "colab": {},
    "colab_type": "code",
    "id": "nbM8_VGdyZvU",
    "outputId": "0f33411c-731f-4b7a-c364-8c85da0285f5"
   },
   "outputs": [],
   "source": [
    "employee = pd.read_csv('employee.csv', index_col='RACE')\n",
    "employee.head()"
   ]
  },
  {
   "cell_type": "code",
   "execution_count": null,
   "metadata": {
    "colab": {},
    "colab_type": "code",
    "id": "wK8Jsgp2yZvd",
    "outputId": "14a91dbf-2377-4dea-ac5f-44f9a4407cc8"
   },
   "outputs": [],
   "source": [
    "salary1 = employee['BASE_SALARY']\n",
    "salary2 = employee['BASE_SALARY']\n",
    "salary1 is salary2"
   ]
  },
  {
   "cell_type": "code",
   "execution_count": null,
   "metadata": {
    "colab": {},
    "colab_type": "code",
    "id": "rFr3jJPwyZvt",
    "outputId": "eebb12fb-a768-46ca-b05f-429cece0cd54"
   },
   "outputs": [],
   "source": [
    "salary1 = employee['BASE_SALARY'].copy()\n",
    "salary2 = employee['BASE_SALARY'].copy()\n",
    "salary1 is salary2"
   ]
  },
  {
   "cell_type": "code",
   "execution_count": null,
   "metadata": {
    "colab": {},
    "colab_type": "code",
    "id": "A8DT8XlmyZwJ",
    "outputId": "76f868e8-15be-4085-92d5-d1a0bbb42dfa"
   },
   "outputs": [],
   "source": [
    "salary1 = salary1.sort_index()\n",
    "salary1.head()"
   ]
  },
  {
   "cell_type": "code",
   "execution_count": null,
   "metadata": {
    "colab": {},
    "colab_type": "code",
    "id": "_uJtjC66yZwX",
    "outputId": "dbc1fa43-4d1e-41f8-d306-f3b9e5e7749f"
   },
   "outputs": [],
   "source": [
    "salary2.head()"
   ]
  },
  {
   "cell_type": "code",
   "execution_count": null,
   "metadata": {
    "colab": {},
    "colab_type": "code",
    "id": "thTwdI5eyZwt",
    "outputId": "1c5c293a-3575-4696-c15f-1abb258b0478"
   },
   "outputs": [],
   "source": [
    "salary_add = salary1 + salary2\n",
    "salary_add.head()"
   ]
  },
  {
   "cell_type": "code",
   "execution_count": null,
   "metadata": {
    "colab": {},
    "colab_type": "code",
    "id": "m_BXCSk9yZxI",
    "outputId": "68d809e1-06b7-47aa-999c-06fbfe599509"
   },
   "outputs": [],
   "source": [
    "salary_add1 = salary1 + salary1\n",
    "len(salary1), len(salary2), len(salary_add), len(salary_add1)"
   ]
  },
  {
   "cell_type": "code",
   "execution_count": null,
   "metadata": {
    "colab": {},
    "colab_type": "code",
    "id": "fL4RerRbyZxf",
    "outputId": "3c114350-6769-4f54-e23d-678e71383093"
   },
   "outputs": [],
   "source": [
    "index_vc = salary1.index.value_counts(dropna=False)\n",
    "index_vc"
   ]
  },
  {
   "cell_type": "code",
   "execution_count": null,
   "metadata": {
    "colab": {},
    "colab_type": "code",
    "id": "dC1jbhsSyZxo",
    "outputId": "b1d9d0cc-0f90-45b3-b47c-f7c156faf7e0"
   },
   "outputs": [],
   "source": [
    "index_vc.pow(2).sum()"
   ]
  },
  {
   "cell_type": "code",
   "execution_count": null,
   "metadata": {
    "colab": {},
    "colab_type": "code",
    "id": "jlK0hMrkyZyG",
    "outputId": "184c3285-0b41-4b5d-d86c-d1cad6908268"
   },
   "outputs": [],
   "source": [
    " baseball_14 = pd.read_csv('data/baseball14.csv',\n",
    "index_col='playerID')\n",
    "baseball_15 = pd.read_csv('data/baseball15.csv',\n",
    "index_col='playerID')\n",
    "baseball_16 = pd.read_csv('data/baseball16.csv',\n",
    "index_col='playerID')\n",
    "baseball_14.head()"
   ]
  },
  {
   "cell_type": "code",
   "execution_count": null,
   "metadata": {
    "colab": {},
    "colab_type": "code",
    "id": "QrBGxtKWyZyT",
    "outputId": "fb091304-0e19-4335-cbbf-af1f5fb57a18"
   },
   "outputs": [],
   "source": [
    "baseball_14.index.difference(baseball_15.index)"
   ]
  },
  {
   "cell_type": "code",
   "execution_count": null,
   "metadata": {
    "colab": {},
    "colab_type": "code",
    "id": "IYZIlM1WyZyv",
    "outputId": "3b7a7a12-f809-438a-a391-4a3350181838"
   },
   "outputs": [],
   "source": [
    "baseball_14.index.difference(baseball_16.index)"
   ]
  },
  {
   "cell_type": "code",
   "execution_count": null,
   "metadata": {
    "colab": {},
    "colab_type": "code",
    "id": "Ur3yo_x4yZzD",
    "outputId": "968ed874-6524-45c2-acf2-c343c15ae9f2"
   },
   "outputs": [],
   "source": [
    "hits_14 = baseball_14['H']\n",
    "hits_15 = baseball_15['H']\n",
    "hits_16 = baseball_16['H']\n",
    "hits_14.head()"
   ]
  },
  {
   "cell_type": "code",
   "execution_count": null,
   "metadata": {
    "colab": {},
    "colab_type": "code",
    "id": "KqbCAd-1yZzP",
    "outputId": "b2378663-65c3-4cba-c130-276cbf3d19ce"
   },
   "outputs": [],
   "source": [
    "(hits_14 + hits_15).head()"
   ]
  },
  {
   "cell_type": "code",
   "execution_count": null,
   "metadata": {
    "colab": {},
    "colab_type": "code",
    "id": "XFvqOLskyZzu",
    "outputId": "c4e163bf-330d-49e4-8a4e-88a5b0581b50"
   },
   "outputs": [],
   "source": [
    "hits_14.add(hits_15, fill_value=0).head()"
   ]
  },
  {
   "cell_type": "code",
   "execution_count": null,
   "metadata": {
    "colab": {},
    "colab_type": "code",
    "id": "ElMAWVLByZz5"
   },
   "outputs": [],
   "source": [
    "hits_total = hits_14.add(hits_15, fill_value=0) \\\n",
    ".add(hits_16, fill_value=0)"
   ]
  },
  {
   "cell_type": "code",
   "execution_count": null,
   "metadata": {
    "colab": {},
    "colab_type": "code",
    "id": "5NayhSdGyZ0D",
    "outputId": "59551078-bab7-42d5-f8f6-e62b3d516201"
   },
   "outputs": [],
   "source": [
    "hits_total.hasnans"
   ]
  },
  {
   "cell_type": "code",
   "execution_count": null,
   "metadata": {
    "colab": {},
    "colab_type": "code",
    "id": "-6JoDGauyZ0T"
   },
   "outputs": [],
   "source": [
    "employee = pd.read_csv('data/employee.csv')\n",
    "dept_sal = employee[['DEPARTMENT', 'BASE_SALARY']]"
   ]
  },
  {
   "cell_type": "code",
   "execution_count": null,
   "metadata": {
    "colab": {},
    "colab_type": "code",
    "id": "I1Ab9d43yZ0o"
   },
   "outputs": [],
   "source": [
    "dept_sal = dept_sal.sort_values(['DEPARTMENT', 'BASE_SALARY'],\n",
    "ascending=[True, False])"
   ]
  },
  {
   "cell_type": "code",
   "execution_count": null,
   "metadata": {
    "colab": {},
    "colab_type": "code",
    "id": "knnMzxrUyZ0x",
    "outputId": "71b7fba6-b727-4267-cacb-5e9f2701fbc3"
   },
   "outputs": [],
   "source": [
    "max_dept_sal = dept_sal.drop_duplicates(subset='DEPARTMENT')\n",
    "max_dept_sal.head()"
   ]
  },
  {
   "cell_type": "code",
   "execution_count": null,
   "metadata": {
    "colab": {},
    "colab_type": "code",
    "id": "7fS4ZisYyZ1S"
   },
   "outputs": [],
   "source": [
    "max_dept_sal = max_dept_sal.set_index('DEPARTMENT')\n",
    "employee = employee.set_index('DEPARTMENT')"
   ]
  },
  {
   "cell_type": "code",
   "execution_count": null,
   "metadata": {
    "colab": {},
    "colab_type": "code",
    "id": "-I3mki32yZ1g",
    "outputId": "043bc814-bbf8-4a47-e7fb-43d10006fd64"
   },
   "outputs": [],
   "source": [
    "employee['MAX_DEPT_SALARY'] = max_dept_sal['BASE_SALARY']\n",
    "employee.head()"
   ]
  },
  {
   "cell_type": "code",
   "execution_count": null,
   "metadata": {
    "colab": {},
    "colab_type": "code",
    "id": "jT5O_R2oyZ2R",
    "outputId": "e715a814-4998-497a-ae12-147b736b5ca2"
   },
   "outputs": [],
   "source": [
    "employee.query('BASE_SALARY > MAX_DEPT_SALARY')"
   ]
  },
  {
   "cell_type": "code",
   "execution_count": null,
   "metadata": {
    "colab": {},
    "colab_type": "code",
    "id": "ENwssxRJyZ20",
    "outputId": "a9abd248-3231-44bf-f853-6995df3252d0"
   },
   "outputs": [],
   "source": [
    "college = pd.read_csv('college.csv', index_col='INSTNM')\n",
    "college.dtypes"
   ]
  },
  {
   "cell_type": "code",
   "execution_count": null,
   "metadata": {
    "colab": {},
    "colab_type": "code",
    "id": "m76WTrpeyZ29",
    "outputId": "4b1c8a1f-afa7-483d-b5ff-76996ea4c918"
   },
   "outputs": [],
   "source": [
    "college.MD_EARN_WNE_P10.iloc[0]"
   ]
  },
  {
   "cell_type": "code",
   "execution_count": null,
   "metadata": {
    "colab": {},
    "colab_type": "code",
    "id": "mcE9IrSMyZ3F",
    "outputId": "d4b9ccba-181a-4624-a337-d07c9add52f9"
   },
   "outputs": [],
   "source": [
    "college.GRAD_DEBT_MDN_SUPP.iloc[0]"
   ]
  },
  {
   "cell_type": "code",
   "execution_count": null,
   "metadata": {
    "colab": {},
    "colab_type": "code",
    "id": "XsQJVFWbyZ3P",
    "outputId": "e8094cf9-a773-4229-c83f-ec9892a7849b"
   },
   "outputs": [],
   "source": [
    "college.MD_EARN_WNE_P10.sort_values(ascending=False).head()"
   ]
  },
  {
   "cell_type": "code",
   "execution_count": null,
   "metadata": {
    "colab": {},
    "colab_type": "code",
    "id": "7aKx2uJRyZ3_",
    "outputId": "08a44fd5-ed2f-4695-f116-619c2e319677"
   },
   "outputs": [],
   "source": [
    "cols = ['MD_EARN_WNE_P10', 'GRAD_DEBT_MDN_SUPP']\n",
    "for col in cols:\n",
    "    college[col] = pd.to_numeric(college[col], errors='coerce')\n",
    "college.dtypes.loc[cols]"
   ]
  },
  {
   "cell_type": "code",
   "execution_count": null,
   "metadata": {
    "colab": {},
    "colab_type": "code",
    "id": "uexzXlrjyZ4P",
    "outputId": "36dfff67-cc7a-41f8-c0f9-4be3bef598ea"
   },
   "outputs": [],
   "source": [
    "college_n = college.select_dtypes(include=[np.number])\n",
    "college_n.head()"
   ]
  },
  {
   "cell_type": "code",
   "execution_count": null,
   "metadata": {
    "colab": {},
    "colab_type": "code",
    "id": "rMiH6UzAyZ4n",
    "outputId": "856ae428-e943-4b97-8870-e25d9e9d4525"
   },
   "outputs": [],
   "source": [
    "criteria = college_n.nunique() == 2\n",
    "criteria.head()"
   ]
  },
  {
   "cell_type": "code",
   "execution_count": null,
   "metadata": {
    "colab": {},
    "colab_type": "code",
    "id": "oJxMXcCqyZ43",
    "outputId": "752fde98-fbaa-4890-a2aa-30a16ce5e464"
   },
   "outputs": [],
   "source": [
    "binary_cols = college_n.columns[criteria].tolist()\n",
    "binary_cols"
   ]
  },
  {
   "cell_type": "code",
   "execution_count": null,
   "metadata": {
    "colab": {},
    "colab_type": "code",
    "id": "2stY8goEyZ5e",
    "outputId": "c9b36dce-1a5f-4a05-faeb-32f24f748a0a"
   },
   "outputs": [],
   "source": [
    "college_n2 = college_n.drop(labels=binary_cols, axis='columns')\n",
    "college_n2.head()"
   ]
  },
  {
   "cell_type": "code",
   "execution_count": null,
   "metadata": {
    "colab": {},
    "colab_type": "code",
    "id": "4LK5pEtqyZ5o",
    "outputId": "aca3244f-316c-41a1-bfc4-839a9b1ed953"
   },
   "outputs": [],
   "source": [
    "max_cols = college_n2.idxmax()\n",
    "max_cols"
   ]
  },
  {
   "cell_type": "code",
   "execution_count": null,
   "metadata": {
    "colab": {},
    "colab_type": "code",
    "id": "SgT9CiYXyZ5x",
    "outputId": "b7d50982-e523-4cf0-9f72-0dba69cfd176"
   },
   "outputs": [],
   "source": [
    "unique_max_cols = max_cols.unique()\n",
    "unique_max_cols[:5]"
   ]
  },
  {
   "cell_type": "code",
   "execution_count": null,
   "metadata": {
    "colab": {},
    "colab_type": "code",
    "id": "QEMMT8zoyZ6F",
    "outputId": "d3cc4dfc-5ed1-4bf2-8424-95655c7877a5"
   },
   "outputs": [],
   "source": [
    "college_n2.loc[unique_max_cols].style.highlight_max()"
   ]
  },
  {
   "cell_type": "code",
   "execution_count": null,
   "metadata": {
    "colab": {},
    "colab_type": "code",
    "id": "plHJce0-yZ6k",
    "outputId": "c4eb644d-5e40-43d5-c7c7-bd650e44580c"
   },
   "outputs": [],
   "source": [
    "college = pd.read_csv('data/college.csv', index_col='INSTNM')\n",
    "college_ugds = college.filter(like='UGDS_').head()\n",
    "college_ugds.style.highlight_max(axis='columns')"
   ]
  },
  {
   "cell_type": "code",
   "execution_count": null,
   "metadata": {
    "colab": {},
    "colab_type": "code",
    "id": "s42I1iDayZ64"
   },
   "outputs": [],
   "source": [
    "college = pd.read_csv('data/college.csv', index_col='INSTNM')\n",
    "cols = ['MD_EARN_WNE_P10', 'GRAD_DEBT_MDN_SUPP']\n",
    "for col in cols:\n",
    "    college[col] = pd.to_numeric(college[col], errors='coerce')\n",
    "college_n = college.select_dtypes(include=[np.number])\n",
    "criteria = college_n.nunique() == 2\n",
    "binary_cols = college_n.columns[criteria].tolist()\n",
    "college_n = college_n.drop(labels=binary_cols, axis='columns')"
   ]
  },
  {
   "cell_type": "code",
   "execution_count": null,
   "metadata": {
    "colab": {},
    "colab_type": "code",
    "id": "QJrlWr5NyZ7H",
    "outputId": "8b8ad34a-0619-47a2-8d06-f1d0d6310340"
   },
   "outputs": [],
   "source": [
    "college_n.max().head()"
   ]
  },
  {
   "cell_type": "code",
   "execution_count": null,
   "metadata": {
    "colab": {},
    "colab_type": "code",
    "id": "vHL6doxgyZ7c",
    "outputId": "d53fbdbe-32b8-46b0-e25b-fa0ef6000e58"
   },
   "outputs": [],
   "source": [
    "college_n.eq(college_n.max()).head()"
   ]
  },
  {
   "cell_type": "code",
   "execution_count": null,
   "metadata": {
    "colab": {},
    "colab_type": "code",
    "id": "rwVFZNQFyZ7v",
    "outputId": "7af55930-e61a-40ea-ea65-4775f9552fe2"
   },
   "outputs": [],
   "source": [
    "has_row_max = college_n.eq(college_n.max()).any(axis='columns')\n",
    "has_row_max.head()"
   ]
  },
  {
   "cell_type": "code",
   "execution_count": null,
   "metadata": {
    "colab": {},
    "colab_type": "code",
    "id": "gbBpUvqGyZ7_",
    "outputId": "d8bc1041-870d-4715-fff2-68269f7adca4"
   },
   "outputs": [],
   "source": [
    "college_n.shape"
   ]
  },
  {
   "cell_type": "code",
   "execution_count": null,
   "metadata": {
    "colab": {},
    "colab_type": "code",
    "id": "AhLyzq36yZ8O",
    "outputId": "c68201c4-d805-4d29-b3ee-4768d4896f4a"
   },
   "outputs": [],
   "source": [
    "has_row_max.sum()"
   ]
  },
  {
   "cell_type": "code",
   "execution_count": null,
   "metadata": {
    "colab": {},
    "colab_type": "code",
    "id": "BWz84xsFyZ8f",
    "outputId": "3067ffd5-e7f8-470c-afe7-ea46e4773d67"
   },
   "outputs": [],
   "source": [
    "college_n.eq(college_n.max()).cumsum()"
   ]
  },
  {
   "cell_type": "code",
   "execution_count": null,
   "metadata": {
    "colab": {},
    "colab_type": "code",
    "id": "ORqQqe0PyZ81",
    "outputId": "a6052887-e429-4f5b-9138-d35b19d4cd35"
   },
   "outputs": [],
   "source": [
    "has_row_max2 = college_n.eq(college_n.max()).cumsum().cumsum().eq(1).any(axis='columns')\n",
    "\n",
    "has_row_max2.head()"
   ]
  },
  {
   "cell_type": "code",
   "execution_count": null,
   "metadata": {
    "colab": {},
    "colab_type": "code",
    "id": "fx98MJaByZ8_",
    "outputId": "ac0265ae-6f61-4e1e-da31-32a68b7ad1b4"
   },
   "outputs": [],
   "source": [
    "has_row_max2.sum()"
   ]
  },
  {
   "cell_type": "code",
   "execution_count": null,
   "metadata": {
    "colab": {},
    "colab_type": "code",
    "id": "Jt_1IhxUyZ-S",
    "outputId": "ae5622a3-d3de-4903-ca44-59a5596e22da"
   },
   "outputs": [],
   "source": [
    "idxmax_cols = has_row_max2[has_row_max2].index\n",
    "idxmax_cols"
   ]
  },
  {
   "cell_type": "code",
   "execution_count": null,
   "metadata": {
    "colab": {},
    "colab_type": "code",
    "id": "1KnWsLmzyZ-t",
    "outputId": "4ca82356-b343-46d7-87f2-3da6a2ff50af"
   },
   "outputs": [],
   "source": [
    "set(college_n.idxmax().unique()) == set(idxmax_cols)"
   ]
  },
  {
   "cell_type": "code",
   "execution_count": null,
   "metadata": {
    "colab": {},
    "colab_type": "code",
    "id": "rRRgd71WyZ-8",
    "outputId": "8dcbbb97-84aa-4704-af6c-08acd6f3d989"
   },
   "outputs": [],
   "source": [
    "college = pd.read_csv('college.csv', index_col='INSTNM')\n",
    "college_ugds = college.filter(like='UGDS_')\n",
    "college_ugds.head()"
   ]
  },
  {
   "cell_type": "code",
   "execution_count": null,
   "metadata": {
    "colab": {},
    "colab_type": "code",
    "id": "EJCOPoosyZ_H",
    "outputId": "32f05cdb-2012-4858-bc05-ae10cd10a891"
   },
   "outputs": [],
   "source": [
    "highest_percentage_race = college_ugds.idxmax(axis='columns')\n",
    "highest_percentage_race.head()"
   ]
  },
  {
   "cell_type": "code",
   "execution_count": null,
   "metadata": {
    "colab": {},
    "colab_type": "code",
    "id": "sk4l3EhIyZ_1",
    "outputId": "0fb659a7-b033-4494-c162-ce169a7c70b3"
   },
   "outputs": [],
   "source": [
    "highest_percentage_race.value_counts(normalize=True)"
   ]
  },
  {
   "cell_type": "code",
   "execution_count": null,
   "metadata": {
    "colab": {},
    "colab_type": "code",
    "id": "0YGI-_PqyaAF"
   },
   "outputs": [],
   "source": []
  },
  {
   "cell_type": "code",
   "execution_count": null,
   "metadata": {
    "colab": {},
    "colab_type": "code",
    "id": "fal7MJJeyaAm",
    "outputId": "01ad9b40-8290-4a02-c638-e473658445b4"
   },
   "outputs": [],
   "source": [
    "flights = pd.read_csv('flights.csv')\n",
    "flights.head()"
   ]
  },
  {
   "cell_type": "code",
   "execution_count": null,
   "metadata": {
    "colab": {},
    "colab_type": "code",
    "id": "BDzOppqbyaA0",
    "outputId": "bad51748-8bf7-4073-bdec-1d5454a72d7c"
   },
   "outputs": [],
   "source": [
    "flights.groupby('AIRLINE').agg({'ARR_DELAY':'mean'}).head()"
   ]
  },
  {
   "cell_type": "code",
   "execution_count": null,
   "metadata": {
    "colab": {},
    "colab_type": "code",
    "id": "i89nT7AeyaA7",
    "outputId": "e3c47753-bc6e-46dc-feb8-eb77bc770e35"
   },
   "outputs": [],
   "source": [
    "flights.groupby('AIRLINE')['ARR_DELAY'].agg('mean').head()"
   ]
  },
  {
   "cell_type": "code",
   "execution_count": null,
   "metadata": {
    "colab": {},
    "colab_type": "code",
    "id": "mh6QhS9LyaBS",
    "outputId": "721ae249-7f7b-4614-9f05-1f6b16ae3c39"
   },
   "outputs": [],
   "source": [
    "flights.groupby('AIRLINE')['ARR_DELAY'].agg(np.mean).head()"
   ]
  },
  {
   "cell_type": "code",
   "execution_count": null,
   "metadata": {
    "colab": {},
    "colab_type": "code",
    "id": "P07823OIyaBl",
    "outputId": "8c072c00-c004-4a22-d44a-aca21773719e"
   },
   "outputs": [],
   "source": [
    "flights.groupby('AIRLINE')['ARR_DELAY'].mean().head()"
   ]
  },
  {
   "cell_type": "code",
   "execution_count": null,
   "metadata": {
    "colab": {},
    "colab_type": "code",
    "id": "kRHG_u85yaB2",
    "outputId": "4bf38e8b-323e-4ea7-f1a7-09e2e8c57fef"
   },
   "outputs": [],
   "source": [
    "flights.groupby(['AIRLINE', 'WEEKDAY'])['CANCELLED'].agg('sum').head(7)"
   ]
  },
  {
   "cell_type": "code",
   "execution_count": null,
   "metadata": {
    "colab": {},
    "colab_type": "code",
    "id": "QALZxrFtyaCH",
    "outputId": "48a498ac-2904-4c24-b94e-8761a1b3ca32"
   },
   "outputs": [],
   "source": [
    "flights.groupby(['AIRLINE', 'WEEKDAY'])['CANCELLED', 'DIVERTED'].agg(['sum', 'mean']).head(7)"
   ]
  },
  {
   "cell_type": "code",
   "execution_count": null,
   "metadata": {
    "colab": {},
    "colab_type": "code",
    "id": "4wUNcahayaCP",
    "outputId": "4ca12afb-a5ad-4180-987d-b7a56bcc73f0"
   },
   "outputs": [],
   "source": [
    "group_cols = ['ORG_AIR', 'DEST_AIR']\n",
    "agg_dict = {'CANCELLED':['sum', 'mean', 'size'],\n",
    "'AIR_TIME':['mean', 'var']}\n",
    "flights.groupby(group_cols).agg(agg_dict).head()"
   ]
  },
  {
   "cell_type": "code",
   "execution_count": null,
   "metadata": {
    "colab": {},
    "colab_type": "code",
    "id": "CrryI4_JyaCh",
    "outputId": "dca0c17c-c4a8-4484-9dcf-e562713f8bf6"
   },
   "outputs": [],
   "source": [
    "flights = pd.read_csv('data/flights.csv')\n",
    "airline_info = flights.groupby(['AIRLINE', 'WEEKDAY'])\\\n",
    ".agg({'DIST':['sum', 'mean'],\n",
    "'ARR_DELAY':['min', 'max']}) \\\n",
    ".astype(int)\n",
    "airline_info.head(7)"
   ]
  },
  {
   "cell_type": "code",
   "execution_count": null,
   "metadata": {
    "colab": {},
    "colab_type": "code",
    "id": "rp06arrmyaCu"
   },
   "outputs": [],
   "source": [
    "level0 = airline_info.columns.get_level_values(0)\n"
   ]
  },
  {
   "cell_type": "code",
   "execution_count": null,
   "metadata": {
    "colab": {},
    "colab_type": "code",
    "id": "2OeF85eNyaC2"
   },
   "outputs": [],
   "source": [
    "level1 = airline_info.columns.get_level_values(1)"
   ]
  },
  {
   "cell_type": "code",
   "execution_count": null,
   "metadata": {
    "colab": {},
    "colab_type": "code",
    "id": "N3j2DtvLyaDA",
    "outputId": "3ab3c9c0-9c20-4534-c2f9-8550da298e68"
   },
   "outputs": [],
   "source": [
    "airline_info.columns = level0 + '_' + level1\n",
    "airline_info.head(7)\n",
    "                  "
   ]
  },
  {
   "cell_type": "code",
   "execution_count": null,
   "metadata": {
    "colab": {},
    "colab_type": "code",
    "id": "_E0XBOJ6yaDP",
    "outputId": "85d7f921-0669-40c6-a96c-8f45a5115bcc"
   },
   "outputs": [],
   "source": [
    "airline_info.reset_index().head(7)"
   ]
  },
  {
   "cell_type": "code",
   "execution_count": null,
   "metadata": {
    "colab": {},
    "colab_type": "code",
    "id": "lL36NWbpyaDh",
    "outputId": "1508c2a4-d21b-4c32-f933-de3ab4d93849"
   },
   "outputs": [],
   "source": [
    "college = pd.read_csv('data/college.csv')\n",
    "college.groupby('STABBR')['UGDS'].agg(['mean', 'std']) \\\n",
    ".round(0).head()"
   ]
  },
  {
   "cell_type": "code",
   "execution_count": null,
   "metadata": {
    "colab": {},
    "colab_type": "code",
    "id": "5ZDYQIn4yaDs"
   },
   "outputs": [],
   "source": [
    "def max_deviation(s):\n",
    "    std_score = (s - s.mean()) / s.std()\n",
    "    return std_score.abs().max()"
   ]
  },
  {
   "cell_type": "code",
   "execution_count": null,
   "metadata": {
    "colab": {},
    "colab_type": "code",
    "id": "AlTTcbuNyaD_",
    "outputId": "609bdf04-4bf7-4c9f-9726-76f67ba23431"
   },
   "outputs": [],
   "source": [
    "college.groupby('STABBR')['UGDS'].agg(max_deviation) \\\n",
    ".round(1).head()"
   ]
  },
  {
   "cell_type": "code",
   "execution_count": null,
   "metadata": {
    "colab": {},
    "colab_type": "code",
    "id": "5tpS_IQByaES",
    "outputId": "7c85d16d-d385-4292-d825-891c3d8999be"
   },
   "outputs": [],
   "source": [
    "college = pd.read_csv('data/college.csv')\n",
    "grouped = college.groupby(['STABBR', 'RELAFFIL'])\n",
    "import inspect\n",
    "inspect.signature(grouped.agg)"
   ]
  },
  {
   "cell_type": "code",
   "execution_count": null,
   "metadata": {
    "colab": {},
    "colab_type": "code",
    "id": "vDpPalLmyaEj"
   },
   "outputs": [],
   "source": [
    "def pct_between_1_3k(s):\n",
    "    return s.between(1000, 3000).mean()"
   ]
  },
  {
   "cell_type": "code",
   "execution_count": null,
   "metadata": {
    "colab": {},
    "colab_type": "code",
    "id": "IWP-aU0yyaEs",
    "outputId": "182a28f3-df41-42a3-e86e-bb5e39ecacf3"
   },
   "outputs": [],
   "source": [
    "college.groupby(['STABBR', 'RELAFFIL'])['UGDS'] \\\n",
    ".agg(pct_between_1_3k).head(9)"
   ]
  },
  {
   "cell_type": "code",
   "execution_count": null,
   "metadata": {
    "colab": {},
    "colab_type": "code",
    "id": "u9WAN_NUyaE_"
   },
   "outputs": [],
   "source": [
    "def pct_between(s, low, high):\n",
    "    return s.between(low, high).mean()"
   ]
  },
  {
   "cell_type": "code",
   "execution_count": null,
   "metadata": {
    "colab": {},
    "colab_type": "code",
    "id": "Sacy8QFZyaFF",
    "outputId": "1b99a683-2577-48a4-ece2-8f801dd6bcfb"
   },
   "outputs": [],
   "source": [
    "college.groupby(['STABBR', 'RELAFFIL'])['UGDS'] \\\n",
    ".agg(pct_between, 1000, 10000).head(9)"
   ]
  },
  {
   "cell_type": "code",
   "execution_count": null,
   "metadata": {
    "colab": {},
    "colab_type": "code",
    "id": "16SnVcywyaFv",
    "outputId": "ec5799d1-9401-4f05-cd5c-4645c5598a2f"
   },
   "outputs": [],
   "source": [
    "college = pd.read_csv('data/college.csv')\n",
    "grouped = college.groupby(['STABBR', 'RELAFFIL'])\n",
    "type(grouped)"
   ]
  },
  {
   "cell_type": "code",
   "execution_count": null,
   "metadata": {
    "colab": {},
    "colab_type": "code",
    "id": "JeN7i7AwyaGg",
    "outputId": "1fcf219b-bf23-470b-ed6e-9cf243ef54b1"
   },
   "outputs": [],
   "source": [
    "print([attr for attr in dir(grouped) if not attr.startswith('_')])"
   ]
  },
  {
   "cell_type": "code",
   "execution_count": null,
   "metadata": {
    "colab": {},
    "colab_type": "code",
    "id": "uHvg1Te6yaGm",
    "outputId": "81701ed2-f718-4958-9dfb-264d31ff656b"
   },
   "outputs": [],
   "source": [
    "grouped.ngroups"
   ]
  },
  {
   "cell_type": "code",
   "execution_count": null,
   "metadata": {
    "colab": {},
    "colab_type": "code",
    "id": "RVGc4EwfyaG3",
    "outputId": "ba3c9b6a-43f3-4b77-d22f-7c33dbc71a70"
   },
   "outputs": [],
   "source": [
    "groups = list(grouped.groups.keys())\n",
    "groups[:6]"
   ]
  },
  {
   "cell_type": "code",
   "execution_count": null,
   "metadata": {
    "colab": {},
    "colab_type": "code",
    "id": "rmCradyVyaHG",
    "outputId": "89ee1bfb-6710-44b0-a91e-1366903d8aa6"
   },
   "outputs": [],
   "source": [
    "grouped.get_group(('FL', 1)).head()"
   ]
  },
  {
   "cell_type": "code",
   "execution_count": null,
   "metadata": {
    "colab": {},
    "colab_type": "code",
    "id": "3IgVPu4IyaHZ",
    "outputId": "95abdbdf-4b80-4383-8afe-07c51c609651"
   },
   "outputs": [],
   "source": [
    "from IPython.display import display\n",
    "for name, group in grouped:\n",
    "    print(name)\n",
    "    display(group.head(3))"
   ]
  },
  {
   "cell_type": "code",
   "execution_count": null,
   "metadata": {
    "colab": {},
    "colab_type": "code",
    "id": "Glt3kOojyaH7",
    "outputId": "81ed0420-cb84-475c-f5ad-fc49800fe671"
   },
   "outputs": [],
   "source": [
    "grouped.head(2).head(6)"
   ]
  },
  {
   "cell_type": "code",
   "execution_count": null,
   "metadata": {
    "colab": {},
    "colab_type": "code",
    "id": "lctWjGlLyaIW",
    "outputId": "c3630976-b344-48d8-ed1c-b30a7ad197e6"
   },
   "outputs": [],
   "source": [
    "college = pd.read_csv('data/college.csv', index_col='INSTNM')\n",
    "grouped = college.groupby('STABBR')\n",
    "grouped.ngroups"
   ]
  },
  {
   "cell_type": "code",
   "execution_count": null,
   "metadata": {
    "colab": {},
    "colab_type": "code",
    "id": "GssEgrJUyaIe",
    "outputId": "23823822-76ed-4c0e-9e41-a61278b848d6"
   },
   "outputs": [],
   "source": [
    "college['STABBR'].nunique()"
   ]
  },
  {
   "cell_type": "code",
   "execution_count": null,
   "metadata": {
    "colab": {},
    "colab_type": "code",
    "id": "MRed3dstyaIu"
   },
   "outputs": [],
   "source": [
    "def check_minority(df, threshold):\n",
    "    minority_pct = 1 - df['UGDS_WHITE']\n",
    "    total_minority = (df['UGDS'] * minority_pct).sum()\n",
    "    total_ugds = df['UGDS'].sum()\n",
    "    total_minority_pct = total_minority / total_ugds\n",
    "    return total_minority_pct > threshold"
   ]
  },
  {
   "cell_type": "code",
   "execution_count": null,
   "metadata": {
    "colab": {},
    "colab_type": "code",
    "id": "5Mid4Q5ayaI5",
    "outputId": "fab5b752-7f07-47cd-a09f-7b084e7305af"
   },
   "outputs": [],
   "source": [
    "college_filtered = grouped.filter(check_minority, threshold=.5)\n",
    "college_filtered.head()"
   ]
  },
  {
   "cell_type": "code",
   "execution_count": null,
   "metadata": {
    "colab": {},
    "colab_type": "code",
    "id": "t5vMWp5nyaJA",
    "outputId": "df50807c-56f7-4d95-b501-9d648316dfc7"
   },
   "outputs": [],
   "source": [
    "college.shape"
   ]
  },
  {
   "cell_type": "code",
   "execution_count": null,
   "metadata": {
    "colab": {},
    "colab_type": "code",
    "id": "Ci6lcM8KyaJM",
    "outputId": "fb90f47c-456b-4a49-b074-cea297cad269"
   },
   "outputs": [],
   "source": [
    " college_filtered.shape"
   ]
  },
  {
   "cell_type": "code",
   "execution_count": null,
   "metadata": {
    "colab": {},
    "colab_type": "code",
    "id": "JouD9Uk6yaJT",
    "outputId": "757a9f2a-590b-4fc1-fb0a-c22909535242"
   },
   "outputs": [],
   "source": [
    "college_filtered['STABBR'].nunique()"
   ]
  },
  {
   "cell_type": "code",
   "execution_count": null,
   "metadata": {
    "colab": {},
    "colab_type": "code",
    "id": "Ky5bE142yaJh",
    "outputId": "a5c81030-289d-4d11-a1f7-f0afc307283e"
   },
   "outputs": [],
   "source": [
    "weight_loss = pd.read_csv('data/weight_loss.csv')\n",
    "weight_loss.query('Month == \"Jan\"')"
   ]
  },
  {
   "cell_type": "code",
   "execution_count": null,
   "metadata": {
    "colab": {},
    "colab_type": "code",
    "id": "pJtwC3pxyaJq"
   },
   "outputs": [],
   "source": [
    "def find_perc_loss(s):\n",
    "    return (s - s.iloc[0]) / s.iloc[0]"
   ]
  },
  {
   "cell_type": "code",
   "execution_count": null,
   "metadata": {
    "colab": {},
    "colab_type": "code",
    "id": "flARhqKkyaJ4",
    "outputId": "aa7baa6c-2e3e-451e-ce28-46e02d330577"
   },
   "outputs": [],
   "source": [
    "bob_jan = weight_loss.query('Name==\"Bob\" and Month==\"Jan\"')\n",
    "find_perc_loss(bob_jan['Weight'])"
   ]
  },
  {
   "cell_type": "code",
   "execution_count": null,
   "metadata": {
    "colab": {},
    "colab_type": "code",
    "id": "dvMaN_FcyaKA",
    "outputId": "966633c1-52e3-40cb-c6b6-7265d5e66664"
   },
   "outputs": [],
   "source": [
    "pcnt_loss = weight_loss.groupby(['Name', 'Month'])['Weight'] \\\n",
    "                       .transform(find_perc_loss)\n",
    "pcnt_loss.head(8)"
   ]
  },
  {
   "cell_type": "code",
   "execution_count": null,
   "metadata": {
    "colab": {},
    "colab_type": "code",
    "id": "pN2vYEsMyaKK",
    "outputId": "14f7f68d-0c5e-48c4-b16f-aad017e3516b"
   },
   "outputs": [],
   "source": [
    "weight_loss['Perc Weight Loss'] = pcnt_loss.round(3)\n",
    "weight_loss.query('Name==\"Bob\" and Month in [\"Jan\", \"Feb\"]')"
   ]
  },
  {
   "cell_type": "code",
   "execution_count": null,
   "metadata": {
    "colab": {},
    "colab_type": "code",
    "id": "sB5iu86fyaKT",
    "outputId": "f99f2843-cf2f-49f3-d1b6-067f0a3a5312"
   },
   "outputs": [],
   "source": [
    "week4 = weight_loss.query('Week == \"Week 4\"')\n",
    "week4"
   ]
  },
  {
   "cell_type": "code",
   "execution_count": null,
   "metadata": {
    "colab": {},
    "colab_type": "code",
    "id": "k7XdsPJ9yaKh",
    "outputId": "bb553e7a-757c-4ce9-9008-917191387e84"
   },
   "outputs": [],
   "source": [
    "winner = week4.pivot(index='Month', columns='Name',\n",
    "values='Perc Weight Loss')\n",
    "winner"
   ]
  },
  {
   "cell_type": "code",
   "execution_count": null,
   "metadata": {
    "colab": {},
    "colab_type": "code",
    "id": "GTK1GNM-yaKq",
    "outputId": "63cc8159-949c-41bd-d035-91bf35439a19"
   },
   "outputs": [],
   "source": [
    "winner['Winner'] = np.where(winner['Amy'] < winner['Bob'],\n",
    "'Amy', 'Bob')\n",
    "winner.style.highlight_min(axis=1)"
   ]
  },
  {
   "cell_type": "code",
   "execution_count": null,
   "metadata": {
    "colab": {},
    "colab_type": "code",
    "id": "jPng6-TiyaK6",
    "outputId": "e2afb832-a575-4321-dde1-fc220766bba6"
   },
   "outputs": [],
   "source": [
    "winner.Winner.value_counts()"
   ]
  },
  {
   "cell_type": "code",
   "execution_count": null,
   "metadata": {
    "colab": {},
    "colab_type": "code",
    "id": "1dKGor6PyaLE",
    "outputId": "717d280f-fc71-4b83-b7bc-cc70b5e34daa"
   },
   "outputs": [],
   "source": [
    "college = pd.read_csv('data/college.csv')\n",
    "subset = ['UGDS', 'SATMTMID', 'SATVRMID']\n",
    "college2 = college.dropna(subset=subset)\n",
    "college.shape"
   ]
  },
  {
   "cell_type": "code",
   "execution_count": null,
   "metadata": {
    "colab": {},
    "colab_type": "code",
    "id": "yZUthIPnyaLM",
    "outputId": "650c378c-c655-43da-c0ae-8821357439ae"
   },
   "outputs": [],
   "source": [
    "college2.shape"
   ]
  },
  {
   "cell_type": "code",
   "execution_count": null,
   "metadata": {
    "colab": {},
    "colab_type": "code",
    "id": "QQYzMGsbyaLU"
   },
   "outputs": [],
   "source": [
    "def weighted_math_average(df):\n",
    "    weighted_math = df['UGDS'] * df['SATMTMID']\n",
    "    return int(weighted_math.sum() / df['UGDS'].sum())"
   ]
  },
  {
   "cell_type": "code",
   "execution_count": null,
   "metadata": {
    "colab": {},
    "colab_type": "code",
    "id": "8xDrnLNVyaLw",
    "outputId": "bb3d5cff-2c64-468b-b8ee-f6430964b3d0"
   },
   "outputs": [],
   "source": [
    "college2.groupby('STABBR').apply(weighted_math_average).head()"
   ]
  },
  {
   "cell_type": "code",
   "execution_count": null,
   "metadata": {
    "colab": {},
    "colab_type": "code",
    "id": "S4KOpxzoyaL3",
    "outputId": "98018d02-8cb8-4bb3-b724-b7da4be99782"
   },
   "outputs": [],
   "source": [
    "college2.groupby('STABBR').agg(weighted_math_average).head()"
   ]
  },
  {
   "cell_type": "code",
   "execution_count": null,
   "metadata": {
    "colab": {},
    "colab_type": "code",
    "id": "MED5fQltyaMA",
    "outputId": "24b1cd52-4a6b-4591-ee93-504dc7704512"
   },
   "outputs": [],
   "source": [
    "college2.groupby('STABBR')['SATMTMID'] \\\n",
    "        .agg(weighted_math_average)"
   ]
  },
  {
   "cell_type": "code",
   "execution_count": null,
   "metadata": {
    "colab": {},
    "colab_type": "code",
    "id": "TDaiIYLYyaMG"
   },
   "outputs": [],
   "source": [
    "from collections import OrderedDict\n",
    ">>> def weighted_average(df):\n",
    "    data = OrderedDict()\n",
    "    weight_m = df['UGDS'] * df['SATMTMID']\n",
    "    weight_v = df['UGDS'] * df['SATVRMID']\n",
    "    wm_avg = weight_m.sum() / df['UGDS'].sum()\n",
    "    wv_avg = weight_v.sum() / df['UGDS'].sum()"
   ]
  },
  {
   "cell_type": "code",
   "execution_count": null,
   "metadata": {
    "colab": {},
    "colab_type": "code",
    "id": "mInGeEdKyaMQ",
    "outputId": "e94fab7d-e439-46f2-9f0f-15c39a245137"
   },
   "outputs": [],
   "source": [
    "college2.groupby('STABBR').apply(weighted_average).head(10)"
   ]
  },
  {
   "cell_type": "code",
   "execution_count": null,
   "metadata": {
    "colab": {},
    "colab_type": "code",
    "id": "fItljKB3yaMd",
    "outputId": "ac5fd113-04a2-42fd-d91d-07a85897535a"
   },
   "outputs": [],
   "source": [
    "flights = pd.read_csv('flights.csv')\n",
    "flights.head()"
   ]
  },
  {
   "cell_type": "code",
   "execution_count": null,
   "metadata": {
    "colab": {},
    "colab_type": "code",
    "id": "MiDqy8uVyaMk",
    "outputId": "01bfcf8b-916b-4ef3-cf43-0c845f9caae6"
   },
   "outputs": [],
   "source": [
    "bins = [-np.inf, 200, 500, 1000, 2000, np.inf]\n",
    "cuts = pd.cut(flights['DIST'], bins=bins)\n",
    "cuts.head()"
   ]
  },
  {
   "cell_type": "code",
   "execution_count": null,
   "metadata": {
    "colab": {},
    "colab_type": "code",
    "id": "hVnwoq7-yaMy",
    "outputId": "385275d7-c89d-4033-a3c4-02cfca0312cb"
   },
   "outputs": [],
   "source": [
    "cuts.value_counts()"
   ]
  },
  {
   "cell_type": "code",
   "execution_count": null,
   "metadata": {
    "colab": {},
    "colab_type": "code",
    "id": "qtdagfaGyaM5",
    "outputId": "cfa09f9a-9e14-42d3-82c1-6cc55613dedb"
   },
   "outputs": [],
   "source": [
    "flights.groupby(cuts)['AIRLINE'].value_counts(normalize=True) \\\n",
    ".round(3).head(15)"
   ]
  },
  {
   "cell_type": "code",
   "execution_count": null,
   "metadata": {
    "colab": {},
    "colab_type": "code",
    "id": "ilU6iR7gyaNE",
    "outputId": "49339397-4d4c-47c5-c092-ac02098b7e69"
   },
   "outputs": [],
   "source": [
    "flights = pd.read_csv('flights.csv')\n",
    "flights_ct = flights.groupby(['ORG_AIR', 'DEST_AIR']).size()\n",
    "flights_ct.head()"
   ]
  },
  {
   "cell_type": "code",
   "execution_count": null,
   "metadata": {
    "colab": {},
    "colab_type": "code",
    "id": "TaNiIFYRyaNL",
    "outputId": "e0178c23-3231-4a8a-d6ec-43fbc6acf76b"
   },
   "outputs": [],
   "source": [
    "flights_ct.loc[[('ATL', 'IAH'), ('IAH', 'ATL')]]"
   ]
  },
  {
   "cell_type": "code",
   "execution_count": null,
   "metadata": {
    "colab": {},
    "colab_type": "code",
    "id": "yosQNBoEyaNZ",
    "outputId": "6b140f4c-eb8e-4bdc-ef87-e6b802c8daf6"
   },
   "outputs": [],
   "source": [
    "flights_sort = flights[['ORG_AIR', 'DEST_AIR']] \\\n",
    ".apply(sorted, axis=1)\n",
    "flights_sort.head()"
   ]
  },
  {
   "cell_type": "code",
   "execution_count": null,
   "metadata": {
    "colab": {},
    "colab_type": "code",
    "id": "n1OBJlIryaNk",
    "outputId": "b99d28ed-606c-400e-ec9d-3f7b10dca85c"
   },
   "outputs": [],
   "source": [
    "s = pd.Series([0, 1, 1, 0, 1, 1, 1, 0])\n",
    "s"
   ]
  },
  {
   "cell_type": "code",
   "execution_count": null,
   "metadata": {
    "colab": {},
    "colab_type": "code",
    "id": "arMP2lTsyaNz",
    "outputId": "d4381298-3b15-4ad0-da57-46058088b416"
   },
   "outputs": [],
   "source": [
    "s1 = s.cumsum()\n",
    "s1"
   ]
  },
  {
   "cell_type": "code",
   "execution_count": null,
   "metadata": {
    "colab": {},
    "colab_type": "code",
    "id": "4uTTQybvyaN5",
    "outputId": "fae50e74-8c86-4349-9445-39c8974f601e"
   },
   "outputs": [],
   "source": [
    "s.mul(s1)"
   ]
  },
  {
   "cell_type": "code",
   "execution_count": null,
   "metadata": {
    "colab": {},
    "colab_type": "code",
    "id": "U627hRTSyaOC",
    "outputId": "b867e70a-3787-45b8-89d4-62724062f8df"
   },
   "outputs": [],
   "source": [
    "s.mul(s1).diff()"
   ]
  },
  {
   "cell_type": "code",
   "execution_count": null,
   "metadata": {
    "colab": {},
    "colab_type": "code",
    "id": "frDfOP5_yaOJ",
    "outputId": "b6913183-d4a0-473a-ce94-80af68f6b63f"
   },
   "outputs": [],
   "source": [
    "s.mul(s1).diff().where(lambda x: x < 0)"
   ]
  },
  {
   "cell_type": "code",
   "execution_count": null,
   "metadata": {
    "colab": {},
    "colab_type": "code",
    "id": "eZOk80vbyaOQ",
    "outputId": "a0487598-2783-453f-cc04-bf2c303d699a"
   },
   "outputs": [],
   "source": [
    "s.mul(s1).diff().where(lambda x: x < 0).ffill()"
   ]
  },
  {
   "cell_type": "code",
   "execution_count": null,
   "metadata": {
    "colab": {},
    "colab_type": "code",
    "id": "gY5R96l_yaOc",
    "outputId": "bc87e517-8459-452d-d702-15f451ad29bb"
   },
   "outputs": [],
   "source": [
    "s.mul(s1).diff().where(lambda x: x < 0).ffill() \\\n",
    ".add(s1, fill_value=0)"
   ]
  },
  {
   "cell_type": "code",
   "execution_count": null,
   "metadata": {
    "colab": {},
    "colab_type": "code",
    "id": "yFeS2GpXyaOs",
    "outputId": "0f55ebdc-236e-4218-b912-e6fc7865efac"
   },
   "outputs": [],
   "source": [
    "flights = pd.read_csv('data/flights.csv')\n",
    "flights['ON_TIME'] = flights['ARR_DELAY'].lt(15).astype(int)\n",
    "flights[['AIRLINE', 'ORG_AIR', 'ON_TIME']].head(10)"
   ]
  },
  {
   "cell_type": "code",
   "execution_count": null,
   "metadata": {
    "colab": {},
    "colab_type": "code",
    "id": "eLByLl3xyaO1"
   },
   "outputs": [],
   "source": [
    "def max_streak(s):\n",
    "    s1 = s.cumsum()\n",
    "    return s.mul(s1).diff().where(lambda x: x < 0) \\\n",
    "            .ffill().add(s1, fill_value=0).max()"
   ]
  },
  {
   "cell_type": "code",
   "execution_count": null,
   "metadata": {
    "colab": {},
    "colab_type": "code",
    "id": "m93IwJ12yaO6",
    "outputId": "8646a059-8320-42ff-aa39-3fd24d59e316"
   },
   "outputs": [],
   "source": [
    "flights.sort_values(['MONTH', 'DAY', 'SCHED_DEP']) \\\n",
    ".groupby(['AIRLINE', 'ORG_AIR'])['ON_TIME'] \\\n",
    ".agg(['mean', 'size', max_streak]).round(2).head()"
   ]
  },
  {
   "cell_type": "code",
   "execution_count": null,
   "metadata": {
    "colab": {},
    "colab_type": "code",
    "id": "KWSxAgqlyaPC"
   },
   "outputs": [],
   "source": []
  },
  {
   "cell_type": "code",
   "execution_count": null,
   "metadata": {
    "colab": {},
    "colab_type": "code",
    "id": "tRDpLnVAyaPW",
    "outputId": "80725c51-5400-41e9-8ab6-42d6506c76c3"
   },
   "outputs": [],
   "source": [
    "state_fruit = pd.read_csv('data/state_fruit.csv', index_col=0)\n",
    "state_fruit"
   ]
  },
  {
   "cell_type": "code",
   "execution_count": null,
   "metadata": {
    "colab": {},
    "colab_type": "code",
    "id": "mo8doOs3yaPd",
    "outputId": "394d175b-6460-479a-8a72-18ae28a2efe1"
   },
   "outputs": [],
   "source": [
    "state_fruit.stack()"
   ]
  },
  {
   "cell_type": "code",
   "execution_count": null,
   "metadata": {
    "colab": {},
    "colab_type": "code",
    "id": "z7iyT99qyaPq",
    "outputId": "c04b03c9-0370-492b-8e5e-e29098d1c331"
   },
   "outputs": [],
   "source": [
    "state_fruit_tidy = state_fruit.stack().reset_index()\n",
    "state_fruit_tidy"
   ]
  },
  {
   "cell_type": "code",
   "execution_count": null,
   "metadata": {
    "colab": {},
    "colab_type": "code",
    "id": "UAveRFvayaPy",
    "outputId": "0933de83-81fa-4980-b175-0dd7b70251d3"
   },
   "outputs": [],
   "source": [
    "state_fruit_tidy.columns = ['state', 'fruit', 'weight']\n",
    "state_fruit_tidy"
   ]
  },
  {
   "cell_type": "code",
   "execution_count": null,
   "metadata": {
    "colab": {},
    "colab_type": "code",
    "id": "MWstGzNmyaQK",
    "outputId": "601d408a-dbd1-4b80-fcb3-3c103ef0052d"
   },
   "outputs": [],
   "source": [
    "state_fruit.stack().rename_axis(['state', 'fruit'])"
   ]
  },
  {
   "cell_type": "code",
   "execution_count": null,
   "metadata": {
    "colab": {},
    "colab_type": "code",
    "id": "5Wg9tWqIyaQc",
    "outputId": "fb2f4eed-f76f-416d-b24a-a33849522c1c"
   },
   "outputs": [],
   "source": [
    "state_fruit.stack()\\\n",
    ".rename_axis(['state', 'fruit'])\\\n",
    ".reset_index(name='weight')"
   ]
  },
  {
   "cell_type": "code",
   "execution_count": null,
   "metadata": {
    "colab": {},
    "colab_type": "code",
    "id": "0e-590yAyaRM",
    "outputId": "b5171a55-0903-4322-f27c-494d943b1d24"
   },
   "outputs": [],
   "source": [
    "state_fruit2 = pd.read_csv('data/state_fruit2.csv')\n",
    "state_fruit2"
   ]
  },
  {
   "cell_type": "code",
   "execution_count": null,
   "metadata": {
    "colab": {},
    "colab_type": "code",
    "id": "cl3nHtGzyaRS",
    "outputId": "fdecaa1e-432b-4306-bc2c-a99a212bd4bf"
   },
   "outputs": [],
   "source": [
    "state_fruit2.melt(id_vars=['State'],\n",
    "value_vars=['Apple', 'Orange', 'Banana'])"
   ]
  },
  {
   "cell_type": "code",
   "execution_count": null,
   "metadata": {
    "colab": {},
    "colab_type": "code",
    "id": "vPEY4c_ayaRd",
    "outputId": "a3d2bf4b-6e12-47c2-cdf5-007252d73d38"
   },
   "outputs": [],
   "source": [
    "state_fruit2.melt(id_vars=['State'],\n",
    "value_vars=['Apple', 'Orange', 'Banana'],\n",
    "var_name='Fruit',\n",
    "value_name='Weight')"
   ]
  },
  {
   "cell_type": "code",
   "execution_count": null,
   "metadata": {
    "colab": {},
    "colab_type": "code",
    "id": "eidogi-qyaRm",
    "outputId": "d9dec6fd-ce0b-4650-f2cd-e7b7a5bcc3b8"
   },
   "outputs": [],
   "source": [
    "movie = pd.read_csv('movie.csv')\n",
    "actor = movie[['movie_title', 'actor_1_name',\n",
    "'actor_2_name', 'actor_3_name',\n",
    "'actor_1_facebook_likes',\n",
    "'actor_2_facebook_likes',\n",
    "'actor_3_facebook_likes']]\n",
    "actor.head()"
   ]
  },
  {
   "cell_type": "code",
   "execution_count": null,
   "metadata": {
    "colab": {},
    "colab_type": "code",
    "id": "L64iIJu3yaRz"
   },
   "outputs": [],
   "source": [
    "def change_col_name(col_name):\n",
    "    col_name = col_name.replace('_name', '')\n",
    "    if 'facebook' in col_name:\n",
    "        fb_idx = col_name.find('facebook')\n",
    "        col_name = col_name[:5] + col_name[fb_idx - 1:] \\\n",
    "        + col_name[5:fb_idx-1]\n",
    "    return col_name"
   ]
  },
  {
   "cell_type": "code",
   "execution_count": null,
   "metadata": {
    "colab": {},
    "colab_type": "code",
    "id": "SNE64REsyaR7",
    "outputId": "ef44d752-ecab-4da0-e670-00bcaa71aca1"
   },
   "outputs": [],
   "source": [
    "actor2 = actor.rename(columns=change_col_name)\n",
    "actor2.head()"
   ]
  },
  {
   "cell_type": "code",
   "execution_count": null,
   "metadata": {
    "colab": {},
    "colab_type": "code",
    "id": "WWikapgSyaSG",
    "outputId": "b1ed2495-e432-4105-df2c-d6e12041e60a"
   },
   "outputs": [],
   "source": [
    "stubs = ['actor', 'actor_facebook_likes']\n",
    "actor2_tidy = pd.wide_to_long(actor2,\n",
    "stubnames=stubs,\n",
    "i=['movie_title'],\n",
    "j='actor_num',\n",
    "sep='_')\n",
    "actor2_tidy.head()"
   ]
  },
  {
   "cell_type": "code",
   "execution_count": null,
   "metadata": {
    "colab": {},
    "colab_type": "code",
    "id": "PkfqVO14yaSR",
    "outputId": "ae41a343-c320-409e-9f58-0ea455389528"
   },
   "outputs": [],
   "source": [
    "usecol_func = lambda x: 'UGDS_' in x or x == 'INSTNM'\n",
    "college = pd.read_csv('college.csv',\n",
    "index_col='INSTNM',\n",
    "usecols=usecol_func)\n",
    "college.head()"
   ]
  },
  {
   "cell_type": "code",
   "execution_count": null,
   "metadata": {
    "colab": {},
    "colab_type": "code",
    "id": "7s6jjCZIyaSY",
    "outputId": "7ee05910-b6c2-4916-a586-dba4a0e7627d"
   },
   "outputs": [],
   "source": [
    "college_stacked = college.stack()\n",
    "college_stacked.head(18)"
   ]
  },
  {
   "cell_type": "code",
   "execution_count": null,
   "metadata": {
    "colab": {},
    "colab_type": "code",
    "id": "cWF5TauvyaSh",
    "outputId": "ffda53a9-a68e-4808-d820-efa5d7c588d6"
   },
   "outputs": [],
   "source": [
    "college_stacked.unstack()"
   ]
  },
  {
   "cell_type": "code",
   "execution_count": null,
   "metadata": {
    "colab": {},
    "colab_type": "code",
    "id": "J48w_1A8yaS1",
    "outputId": "84f93ebc-14fb-4fc3-a31d-cc3d9fefd8ef"
   },
   "outputs": [],
   "source": [
    "college2 = pd.read_csv('college.csv',\n",
    "usecols=usecol_func)\n",
    "college2.head()"
   ]
  },
  {
   "cell_type": "code",
   "execution_count": null,
   "metadata": {
    "colab": {},
    "colab_type": "code",
    "id": "1vFX7vrHyaTG",
    "outputId": "df3995ef-7868-4cbe-9cae-ae27b41546d2"
   },
   "outputs": [],
   "source": [
    "college_melted = college2.melt(id_vars='INSTNM',\n",
    "var_name='Race',\n",
    "value_name='Percentage')\n",
    "college_melted.head()"
   ]
  },
  {
   "cell_type": "code",
   "execution_count": null,
   "metadata": {
    "colab": {},
    "colab_type": "code",
    "id": "iXrA3EZ1yaTv",
    "outputId": "01e1745d-75db-45ca-fb11-8845911c0b03"
   },
   "outputs": [],
   "source": [
    "melted_inv = college_melted.pivot(index='INSTNM',\n",
    "columns='Race',\n",
    "values='Percentage')\n",
    "melted_inv.head()"
   ]
  },
  {
   "cell_type": "code",
   "execution_count": null,
   "metadata": {
    "colab": {},
    "colab_type": "code",
    "id": "UBgkY0zoyaT3",
    "outputId": "6d655120-c36d-4f27-939c-9d51e1c10744"
   },
   "outputs": [],
   "source": [
    "college2_replication = melted_inv.loc[college2['INSTNM'],\n",
    "college2.columns[1:]]\\\n",
    ".reset_index()\n",
    "college2.equals(college2_replication)"
   ]
  },
  {
   "cell_type": "code",
   "execution_count": null,
   "metadata": {
    "colab": {},
    "colab_type": "code",
    "id": "crc5b7pvyaUE",
    "outputId": "ddfb8bba-16c0-4ac1-f4f6-b3b681785895"
   },
   "outputs": [],
   "source": [
    "employee = pd.read_csv('employee.csv')\n",
    "employee.groupby('RACE')['BASE_SALARY'].mean().astype(int)"
   ]
  },
  {
   "cell_type": "code",
   "execution_count": null,
   "metadata": {
    "colab": {},
    "colab_type": "code",
    "id": "PjkN5yI6yaUS",
    "outputId": "5adef365-c431-4d66-907b-47a7f5368652"
   },
   "outputs": [],
   "source": [
    "agg = employee.groupby(['RACE', 'GENDER'])['BASE_SALARY'].mean().astype(int)\n",
    "agg"
   ]
  },
  {
   "cell_type": "code",
   "execution_count": null,
   "metadata": {
    "colab": {},
    "colab_type": "code",
    "id": "ot25ywosyaUb",
    "outputId": "b7db5763-366f-4377-ef20-5384edebe66f"
   },
   "outputs": [],
   "source": [
    "agg.unstack('GENDER')"
   ]
  },
  {
   "cell_type": "code",
   "execution_count": null,
   "metadata": {
    "colab": {},
    "colab_type": "code",
    "id": "Cu31aucTyaUq",
    "outputId": "932cc32f-007c-4ba2-de85-3db32ee9b28e"
   },
   "outputs": [],
   "source": [
    "agg.unstack('RACE')"
   ]
  },
  {
   "cell_type": "code",
   "execution_count": null,
   "metadata": {
    "colab": {},
    "colab_type": "code",
    "id": "xndme4SWyaVE",
    "outputId": "1118ea59-f599-419a-80f7-44ad0d0493de"
   },
   "outputs": [],
   "source": [
    "flights = pd.read_csv('flights.csv')\n",
    "fp = flights.pivot_table(index='AIRLINE',\n",
    "columns='ORG_AIR',\n",
    "values='CANCELLED',\n",
    "aggfunc='sum',\n",
    "fill_value=0).round(2)\n",
    "fp.head()"
   ]
  },
  {
   "cell_type": "code",
   "execution_count": null,
   "metadata": {
    "colab": {},
    "colab_type": "code",
    "id": "ocKj5cMdyaVK",
    "outputId": "95f81934-490a-4dfc-b441-fadc1779183e"
   },
   "outputs": [],
   "source": [
    "fg = flights.groupby(['AIRLINE', 'ORG_AIR'])['CANCELLED'].sum()\n",
    "fg.head()"
   ]
  },
  {
   "cell_type": "code",
   "execution_count": null,
   "metadata": {
    "colab": {},
    "colab_type": "code",
    "id": "HXXNcwGfyaVT",
    "outputId": "744747c2-6b97-41d7-fcba-09613796001d"
   },
   "outputs": [],
   "source": [
    "fg_unstack = fg.unstack('ORG_AIR', fill_value=0)\n",
    "fp.equals(fg_unstack)"
   ]
  },
  {
   "cell_type": "code",
   "execution_count": null,
   "metadata": {
    "colab": {},
    "colab_type": "code",
    "id": "0_122m6NyaVf"
   },
   "outputs": [],
   "source": [
    "college = pd.read_csv('data/college.csv')\n",
    "cg = college.groupby(['STABBR', 'RELAFFIL'])['UGDS', 'SATMTMID'].agg(['size', 'min', 'max']).head(6)"
   ]
  },
  {
   "cell_type": "code",
   "execution_count": null,
   "metadata": {
    "colab": {},
    "colab_type": "code",
    "id": "PsiVMFBcyaVr",
    "outputId": "12266f54-f7a2-40e3-b357-cd58c79e5d60"
   },
   "outputs": [],
   "source": [
    "cg = cg.rename_axis(['AGG_COLS', 'AGG_FUNCS'], axis='columns')\n",
    "cg"
   ]
  },
  {
   "cell_type": "code",
   "execution_count": null,
   "metadata": {
    "colab": {},
    "colab_type": "code",
    "id": "Z3ccf8JQyaV5",
    "outputId": "92b4f0a6-976a-4607-9799-05a4f1c75c4a"
   },
   "outputs": [],
   "source": [
    "cg.stack('AGG_FUNCS').head()"
   ]
  },
  {
   "cell_type": "code",
   "execution_count": null,
   "metadata": {
    "colab": {},
    "colab_type": "code",
    "id": "fGdovSxcyaWC",
    "outputId": "6b47a648-ee2c-4999-b8d6-45552c840a3d"
   },
   "outputs": [],
   "source": [
    "cg.stack('AGG_FUNCS').swaplevel('AGG_FUNCS', 'STABBR',\n",
    "axis='index').head()"
   ]
  },
  {
   "cell_type": "code",
   "execution_count": null,
   "metadata": {
    "colab": {},
    "colab_type": "code",
    "id": "mfJdLW3xyaWM",
    "outputId": "0dc6a9c0-f834-4fa9-dc48-76185ade323e"
   },
   "outputs": [],
   "source": [
    "cg.stack('AGG_FUNCS') \\\n",
    ".swaplevel('AGG_FUNCS', 'STABBR', axis='index') \\\n",
    ".sort_index(level='RELAFFIL', axis='index') \\\n",
    ".sort_index(level='AGG_COLS', axis='columns').head(6)"
   ]
  },
  {
   "cell_type": "code",
   "execution_count": null,
   "metadata": {
    "colab": {},
    "colab_type": "code",
    "id": "mJcbPyxZyaWd",
    "outputId": "87412d68-6e9d-466b-9747-75a493b601a3"
   },
   "outputs": [],
   "source": [
    "cg.stack('AGG_FUNCS').unstack(['RELAFFIL', 'STABBR'])"
   ]
  },
  {
   "cell_type": "code",
   "execution_count": null,
   "metadata": {
    "colab": {},
    "colab_type": "code",
    "id": "MF7DEBHPyaWo",
    "outputId": "4d3c8101-db92-4196-efe3-05636f12360c"
   },
   "outputs": [],
   "source": [
    "cg.stack(['AGG_FUNCS', 'AGG_COLS']).head(12)"
   ]
  },
  {
   "cell_type": "code",
   "execution_count": null,
   "metadata": {
    "colab": {},
    "colab_type": "code",
    "id": "d4_5U48tyaWx",
    "outputId": "1bd9f3c9-0d57-4bfc-cbb9-b467883be50a"
   },
   "outputs": [],
   "source": [
    "weightlifting = pd.read_csv('data/weightlifting_men.csv')\n",
    "weightlifting"
   ]
  },
  {
   "cell_type": "code",
   "execution_count": null,
   "metadata": {
    "colab": {},
    "colab_type": "code",
    "id": "mGFGQIl8yaW9",
    "outputId": "4ae8cf0c-4e76-4999-b165-1a00da7c7235"
   },
   "outputs": [],
   "source": [
    "wl_melt = weightlifting.melt(id_vars='Weight Category',\n",
    "var_name='sex_age',\n",
    "value_name='Qual Total')\n",
    "wl_melt.head()"
   ]
  },
  {
   "cell_type": "code",
   "execution_count": null,
   "metadata": {
    "colab": {},
    "colab_type": "code",
    "id": "uGf2g3LnyaXM",
    "outputId": "849ac41f-f300-48ed-857e-c97d2d0651fc"
   },
   "outputs": [],
   "source": [
    "sex_age = wl_melt['sex_age'].str.split(expand=True)\n",
    "sex_age.head()"
   ]
  },
  {
   "cell_type": "code",
   "execution_count": null,
   "metadata": {
    "colab": {},
    "colab_type": "code",
    "id": "vuv8GCBlyaXU",
    "outputId": "729f3637-3078-4c91-8ce7-6344ca71bdbb"
   },
   "outputs": [],
   "source": [
    "sex_age.columns = ['Sex', 'Age Group']\n",
    "sex_age.head()"
   ]
  },
  {
   "cell_type": "code",
   "execution_count": null,
   "metadata": {
    "colab": {},
    "colab_type": "code",
    "id": "DzO_c-TCyaXg",
    "outputId": "15daf547-0095-4743-c1aa-85cb27ef9208"
   },
   "outputs": [],
   "source": [
    "sex_age['Sex'] = sex_age['Sex'].str[0]\n",
    "sex_age.head()"
   ]
  },
  {
   "cell_type": "code",
   "execution_count": null,
   "metadata": {
    "colab": {},
    "colab_type": "code",
    "id": "16RcSBvyyaXr",
    "outputId": "698ffb64-b951-428e-8527-fcb1b22018fb"
   },
   "outputs": [],
   "source": [
    "wl_cat_total = wl_melt[['Weight Category', 'Qual Total']]\n",
    "wl_tidy = pd.concat([sex_age, wl_cat_total], axis='columns')\n",
    "wl_tidy.head()"
   ]
  },
  {
   "cell_type": "code",
   "execution_count": null,
   "metadata": {
    "colab": {},
    "colab_type": "code",
    "id": "wqt70OVFyaX3"
   },
   "outputs": [],
   "source": [
    "cols = ['Weight Category', 'Qual Total']\n",
    "sex_age[cols] = wl_melt[cols]"
   ]
  },
  {
   "cell_type": "code",
   "execution_count": null,
   "metadata": {
    "colab": {},
    "colab_type": "code",
    "id": "KGmPHPDoyaYA",
    "outputId": "00ac58a6-f5ee-40df-d2a2-52bb353255d4"
   },
   "outputs": [],
   "source": [
    "cities = pd.read_csv('data/texas_cities.csv')\n",
    "cities"
   ]
  },
  {
   "cell_type": "code",
   "execution_count": null,
   "metadata": {
    "colab": {},
    "colab_type": "code",
    "id": "KByv4LccyaY3",
    "outputId": "e78ceed9-e2df-4f61-9ad0-6059e875572f"
   },
   "outputs": [],
   "source": [
    "geolocations = cities.Geolocation.str.split(pat='. ',\n",
    "expand=True)\n",
    "geolocations.columns = ['latitude', 'latitude direction',\n",
    "'longitude', 'longitude direction']\n",
    "geolocations"
   ]
  },
  {
   "cell_type": "code",
   "execution_count": null,
   "metadata": {
    "colab": {},
    "colab_type": "code",
    "id": "bU11odkNyaZB",
    "outputId": "001b7b94-a4a5-46bf-b0fa-d1630b6928c1"
   },
   "outputs": [],
   "source": [
    "geolocations = geolocations.astype({'latitude':'float',\n",
    "'longitude':'float'})\n",
    "geolocations.dtypes"
   ]
  },
  {
   "cell_type": "code",
   "execution_count": null,
   "metadata": {
    "colab": {},
    "colab_type": "code",
    "id": "0ZZ-S17oyaZY",
    "outputId": "32bd7a35-67d9-488b-cdd3-92faf27890b4"
   },
   "outputs": [],
   "source": [
    "cities_tidy = pd.concat([cities['City'], geolocations],\n",
    "axis='columns')\n",
    "cities_tidy"
   ]
  },
  {
   "cell_type": "code",
   "execution_count": null,
   "metadata": {
    "colab": {},
    "colab_type": "code",
    "id": "X_dTwMv0yaZo",
    "outputId": "d084a9b2-08a8-4e38-94d9-f0b01c677f19"
   },
   "outputs": [],
   "source": [
    "sensors = pd.read_csv('sensors.csv')\n",
    "sensors"
   ]
  },
  {
   "cell_type": "code",
   "execution_count": null,
   "metadata": {
    "colab": {},
    "colab_type": "code",
    "id": "6HblMfPlyaZ0",
    "outputId": "6a07b1ba-c8b1-475b-aa1f-7200c5ddec00"
   },
   "outputs": [],
   "source": [
    "sensors.melt(id_vars=['Group', 'Property'], var_name='Year') \\\n",
    ".head(6)"
   ]
  },
  {
   "cell_type": "code",
   "execution_count": null,
   "metadata": {
    "colab": {},
    "colab_type": "code",
    "id": "LQpWcSrDyaZ8",
    "outputId": "f405a19d-d414-4ced-d24f-67defc716bcc"
   },
   "outputs": [],
   "source": [
    "sensors.melt(id_vars=['Group', 'Property'], var_name='Year') \\\n",
    ".pivot_table(index=['Group', 'Year'],\n",
    "columns='Property', values='value') \\\n",
    ".reset_index() \\\n",
    ".rename_axis(None, axis='columns')"
   ]
  },
  {
   "cell_type": "code",
   "execution_count": null,
   "metadata": {
    "colab": {},
    "colab_type": "code",
    "id": "ctjNASq8yaaE"
   },
   "outputs": [],
   "source": []
  },
  {
   "cell_type": "code",
   "execution_count": null,
   "metadata": {
    "colab": {},
    "colab_type": "code",
    "id": "U40-X6moyaaJ"
   },
   "outputs": [],
   "source": [
    "import pandas as pd\n",
    "import numpy as np\n",
    "\n",
    "import matplotlib.pyplot as plt\n",
    "%matplotlib inline"
   ]
  },
  {
   "cell_type": "code",
   "execution_count": null,
   "metadata": {
    "colab": {},
    "colab_type": "code",
    "id": "HoNWPCm0yaaU",
    "outputId": "3b0e599e-2aa6-48df-c05f-36f75f4837cf"
   },
   "outputs": [],
   "source": [
    "names = pd.read_csv('names.csv')\n",
    "names"
   ]
  },
  {
   "cell_type": "code",
   "execution_count": null,
   "metadata": {
    "colab": {},
    "colab_type": "code",
    "id": "hfOCFhzGyaab",
    "outputId": "861030c9-456d-4a69-d5e8-26a871e7b87f"
   },
   "outputs": [],
   "source": [
    "new_data_list = ['Aria', 1]\n",
    "names.loc[4] = new_data_list\n",
    "names"
   ]
  },
  {
   "cell_type": "code",
   "execution_count": null,
   "metadata": {
    "colab": {},
    "colab_type": "code",
    "id": "qg7twtQQyaaj",
    "outputId": "cb2c5914-8da1-4dd0-dfa3-e60ca9ccdf18"
   },
   "outputs": [],
   "source": [
    "names.loc['five'] = ['Zach', 3]\n",
    "names"
   ]
  },
  {
   "cell_type": "code",
   "execution_count": null,
   "metadata": {
    "colab": {},
    "colab_type": "code",
    "id": "HGml7wgUyaao",
    "outputId": "c61c15df-c0eb-4f73-e83c-2b2d8d25d466"
   },
   "outputs": [],
   "source": [
    "names.loc[len(names)] = {'Name':'Zayd', 'Age':2}\n",
    "names"
   ]
  },
  {
   "cell_type": "code",
   "execution_count": null,
   "metadata": {
    "colab": {},
    "colab_type": "code",
    "id": "WzLd67N8yaa0",
    "outputId": "3eb4b838-f537-4cdf-f26d-ebda509153bd"
   },
   "outputs": [],
   "source": [
    "names.loc[len(names)] = pd.Series({'Age':32, 'Name':'Dean'})\n",
    "names"
   ]
  },
  {
   "cell_type": "code",
   "execution_count": null,
   "metadata": {
    "colab": {},
    "colab_type": "code",
    "id": "2kPMaGCLyaa6",
    "outputId": "c64cd020-2f41-463e-faaf-092130d93c4c"
   },
   "outputs": [],
   "source": [
    "names.append({'Name':'Aria', 'Age':1}, ignore_index=True)"
   ]
  },
  {
   "cell_type": "code",
   "execution_count": null,
   "metadata": {
    "colab": {},
    "colab_type": "code",
    "id": "iTGIMY-kyabC",
    "outputId": "843f9684-d6eb-40ae-c346-b18551733be3"
   },
   "outputs": [],
   "source": [
    "names.index = ['Canada', 'Canada', 'USA', 'USA']\n",
    "names"
   ]
  },
  {
   "cell_type": "code",
   "execution_count": null,
   "metadata": {
    "colab": {},
    "colab_type": "code",
    "id": "NY-g3A1uyabL",
    "outputId": "90d544c2-3d73-447c-f544-e19c86c0beec"
   },
   "outputs": [],
   "source": [
    "names.append({'Name':'Aria', 'Age':1}, ignore_index=True)"
   ]
  },
  {
   "cell_type": "code",
   "execution_count": null,
   "metadata": {
    "colab": {},
    "colab_type": "code",
    "id": "7My4kBh2yabR",
    "outputId": "b174ee0c-2183-4772-c6b1-b20dd7e79ec5"
   },
   "outputs": [],
   "source": [
    "s = pd.Series({'Name': 'Zach', 'Age': 3}, name=len(names))\n",
    "s"
   ]
  },
  {
   "cell_type": "code",
   "execution_count": null,
   "metadata": {
    "colab": {},
    "colab_type": "code",
    "id": "86_M_uzuyabw",
    "outputId": "307e9857-4f04-4af8-81ea-17e3f012ea79"
   },
   "outputs": [],
   "source": [
    "names.append(s)"
   ]
  },
  {
   "cell_type": "code",
   "execution_count": null,
   "metadata": {
    "colab": {},
    "colab_type": "code",
    "id": "qfoEWG6fyab3",
    "outputId": "dec4a078-9fd4-4822-f90d-ce1de3fc5d0d"
   },
   "outputs": [],
   "source": [
    "s1 = pd.Series({'Name': 'Zach', 'Age': 3}, name=len(names))\n",
    "s2 = pd.Series({'Name': 'Zayd', 'Age': 2}, name='USA')\n",
    "names.append([s1, s2])"
   ]
  },
  {
   "cell_type": "code",
   "execution_count": null,
   "metadata": {
    "colab": {},
    "colab_type": "code",
    "id": "R6zqhwSzyacA"
   },
   "outputs": [],
   "source": [
    "stocks_2016 = pd.read_csv('data/stocks_2016.csv', index_col='Symbol')\n",
    "stocks_2017 = pd.read_csv('data/stocks_2017.csv', index_col='Symbol')"
   ]
  },
  {
   "cell_type": "code",
   "execution_count": null,
   "metadata": {
    "colab": {},
    "colab_type": "code",
    "id": "5hUCknufyacE",
    "outputId": "ee5ef317-d649-40b4-d4ff-00bd4370aac5"
   },
   "outputs": [],
   "source": [
    "stocks_2016"
   ]
  },
  {
   "cell_type": "code",
   "execution_count": null,
   "metadata": {
    "colab": {},
    "colab_type": "code",
    "id": "hA7a8sP3yacL",
    "outputId": "232d5059-9cbe-4e5d-99d9-fe76fa0b4cac"
   },
   "outputs": [],
   "source": [
    "stocks_2017"
   ]
  },
  {
   "cell_type": "code",
   "execution_count": null,
   "metadata": {
    "colab": {},
    "colab_type": "code",
    "id": "ire6VSAzyacR",
    "outputId": "a28b164f-2cd2-4391-8d1e-2be2402b75a5"
   },
   "outputs": [],
   "source": [
    "s_list = [stocks_2016, stocks_2017]\n",
    "pd.concat(s_list)"
   ]
  },
  {
   "cell_type": "code",
   "execution_count": null,
   "metadata": {
    "colab": {},
    "colab_type": "code",
    "id": "GEWfpLQTyacb",
    "outputId": "02e930cc-0922-4afa-fb49-f2ca0faa36fc"
   },
   "outputs": [],
   "source": [
    "pd.concat(s_list, keys=['2016', '2017'], names=['Year', 'Symbol'])"
   ]
  },
  {
   "cell_type": "code",
   "execution_count": null,
   "metadata": {
    "colab": {},
    "colab_type": "code",
    "id": "58bKg_Xkyach",
    "outputId": "dead8d0c-0932-4372-9843-5d1aaf30b1c3"
   },
   "outputs": [],
   "source": [
    "pd.concat(s_list, keys=['2016', '2017'], axis='columns', names=['Year', None])"
   ]
  },
  {
   "cell_type": "code",
   "execution_count": null,
   "metadata": {
    "colab": {},
    "colab_type": "code",
    "id": "Bc65S862yacz",
    "outputId": "8fb52ad1-da5c-4b5a-a861-f4f73c07fffb"
   },
   "outputs": [],
   "source": [
    "pd.concat(s_list, join='inner', keys=['2016', '2017'], axis='columns', names=['Year', None])"
   ]
  },
  {
   "cell_type": "code",
   "execution_count": null,
   "metadata": {
    "colab": {},
    "colab_type": "code",
    "id": "-1wGDCk1yadB",
    "outputId": "45abd4db-1842-47dc-99a7-a88e7003477f"
   },
   "outputs": [],
   "source": [
    "from IPython.display import display_html\n",
    "\n",
    "years = 2016, 2017, 2018\n",
    "stock_tables = [pd.read_csv('data/stocks_{}.csv'.format(year), index_col='Symbol') \n",
    "                for year in years]\n",
    "\n",
    "def display_frames(frames, num_spaces=0):\n",
    "    t_style = '<table style=\"display: inline;\"'\n",
    "    tables_html = [df.to_html().replace('<table', t_style) for df in frames]\n",
    "\n",
    "    space = '&nbsp;' * num_spaces\n",
    "    display_html(space.join(tables_html), raw=True)\n",
    "\n",
    "display_frames(stock_tables, 30)\n",
    "stocks_2016, stocks_2017, stocks_2018 = stock_tables"
   ]
  },
  {
   "cell_type": "code",
   "execution_count": null,
   "metadata": {
    "colab": {},
    "colab_type": "code",
    "id": "gd6ajCOHyadK",
    "outputId": "7e15162e-d0ab-4837-d715-8ae5e4cf0094"
   },
   "outputs": [],
   "source": [
    "pd.concat(stock_tables, keys=[2016, 2017, 2018])"
   ]
  },
  {
   "cell_type": "code",
   "execution_count": null,
   "metadata": {
    "colab": {},
    "colab_type": "code",
    "id": "eIdhzzAoyadO",
    "outputId": "272312ec-f605-41d8-f752-007a69488075"
   },
   "outputs": [],
   "source": [
    "pd.concat(dict(zip(years,stock_tables)), axis='columns')"
   ]
  },
  {
   "cell_type": "code",
   "execution_count": null,
   "metadata": {
    "colab": {},
    "colab_type": "code",
    "id": "-kE1xiKUyadU",
    "outputId": "2141c9eb-2f73-421d-cf80-6f8685dc2b48"
   },
   "outputs": [],
   "source": [
    "stocks_2016.join(stocks_2017, lsuffix='_2016', rsuffix='_2017', how='outer')"
   ]
  },
  {
   "cell_type": "code",
   "execution_count": null,
   "metadata": {
    "colab": {},
    "colab_type": "code",
    "id": "6669KNsmyadk",
    "outputId": "e2c07974-625d-485a-ef0b-75656613dacb"
   },
   "outputs": [],
   "source": [
    "stocks_2016"
   ]
  },
  {
   "cell_type": "code",
   "execution_count": null,
   "metadata": {
    "colab": {},
    "colab_type": "code",
    "id": "a2tCN2qIyad1",
    "outputId": "8f0e7381-34d6-4eb1-becd-ea372d59b173"
   },
   "outputs": [],
   "source": [
    "other = [stocks_2017.add_suffix('_2017'), stocks_2018.add_suffix('_2018')]\n",
    "stocks_2016.add_suffix('_2016').join(other, how='outer')"
   ]
  },
  {
   "cell_type": "code",
   "execution_count": null,
   "metadata": {
    "colab": {},
    "colab_type": "code",
    "id": "qmF0AfD0yad_",
    "outputId": "0790411a-ce05-436c-9961-590c63f55edb"
   },
   "outputs": [],
   "source": [
    "stock_join = stocks_2016.add_suffix('_2016').join(other, how='outer')\n",
    "stock_concat = pd.concat(dict(zip(years,stock_tables)), axis='columns')"
   ]
  },
  {
   "cell_type": "code",
   "execution_count": null,
   "metadata": {
    "colab": {},
    "colab_type": "code",
    "id": "xqXnDLFDyaeG"
   },
   "outputs": [],
   "source": [
    "stock_concat.columns = stock_concat.columns.get_level_values(1) + '_' + stock_concat.columns.get_level_values(0).astype(str)"
   ]
  },
  {
   "cell_type": "code",
   "execution_count": null,
   "metadata": {
    "colab": {},
    "colab_type": "code",
    "id": "A7xOCRMwyaeP",
    "outputId": "a7b6fed0-1183-4565-cbf6-07564f8cee4d"
   },
   "outputs": [],
   "source": [
    "stock_concat"
   ]
  },
  {
   "cell_type": "code",
   "execution_count": null,
   "metadata": {
    "colab": {},
    "colab_type": "code",
    "id": "n9mC2_7iyaeU",
    "outputId": "395120a0-d637-469f-9c9f-f705dc9bcd6e"
   },
   "outputs": [],
   "source": [
    "step1 = stocks_2016.merge(stocks_2017, left_index=True, right_index=True, \n",
    "                          how='outer', suffixes=('_2016', '_2017'))\n",
    "stock_merge = step1.merge(stocks_2018.add_suffix('_2018'), \n",
    "                          left_index=True, right_index=True, how='outer')\n",
    "\n",
    "stock_concat.equals(stock_merge)"
   ]
  },
  {
   "cell_type": "code",
   "execution_count": null,
   "metadata": {
    "colab": {},
    "colab_type": "code",
    "id": "Q_TfLLd5yaeb",
    "outputId": "2426898e-34e7-4095-820d-5a060e9dc51e"
   },
   "outputs": [],
   "source": [
    "names = ['prices', 'transactions']\n",
    "food_tables = [pd.read_csv('food_{}.csv'.format(name)) for name in names]\n",
    "food_prices, food_transactions = food_tables\n",
    "display_frames(food_tables, 30)"
   ]
  },
  {
   "cell_type": "code",
   "execution_count": null,
   "metadata": {
    "colab": {},
    "colab_type": "code",
    "id": "00iFiAniyaeg",
    "outputId": "7c443446-952e-4849-9d9b-07b6c9d2a43e"
   },
   "outputs": [],
   "source": [
    "food_transactions.merge(food_prices, on=['item', 'store'])"
   ]
  },
  {
   "cell_type": "code",
   "execution_count": null,
   "metadata": {
    "colab": {},
    "colab_type": "code",
    "id": "UklquXrMyaeq",
    "outputId": "42e6f195-5a92-4528-8f5e-015f81ca946c"
   },
   "outputs": [],
   "source": [
    "food_transactions.merge(food_prices.query('Date == 2017'), how='left')"
   ]
  },
  {
   "cell_type": "code",
   "execution_count": null,
   "metadata": {
    "colab": {},
    "colab_type": "code",
    "id": "F5avnt_9yaex",
    "outputId": "e7a5b806-c31c-4d28-a96a-a946d73fd679"
   },
   "outputs": [],
   "source": [
    "food_prices_join = food_prices.query('Date == 2017').set_index(['item', 'store'])\n",
    "food_prices_join"
   ]
  },
  {
   "cell_type": "code",
   "execution_count": null,
   "metadata": {
    "colab": {},
    "colab_type": "code",
    "id": "joXrepcwyae2",
    "outputId": "72cc1f43-2c23-4917-fea6-82997bb85f84"
   },
   "outputs": [],
   "source": [
    "food_transactions.join(food_prices_join, on=['item', 'store'])"
   ]
  },
  {
   "cell_type": "code",
   "execution_count": null,
   "metadata": {
    "colab": {},
    "colab_type": "code",
    "id": "nOQLO4b0yae-",
    "outputId": "1e38dfb9-f253-443c-9a02-0928cb01102e"
   },
   "outputs": [],
   "source": [
    "pd.concat([food_transactions.set_index(['item', 'store']), \n",
    "           food_prices.set_index(['item', 'store'])], axis='columns')"
   ]
  },
  {
   "cell_type": "code",
   "execution_count": null,
   "metadata": {
    "colab": {},
    "colab_type": "code",
    "id": "w57GhQ1dyafF",
    "outputId": "12d413cc-6463-4da5-faf6-32a81b7b35ed"
   },
   "outputs": [],
   "source": [
    "import glob\n",
    "\n",
    "df_list = []\n",
    "for filename in glob.glob('data/gas prices/*.csv'):\n",
    "    df_list.append(pd.read_csv(filename, index_col='Week', parse_dates=['Week']))\n",
    "\n",
    "gas = pd.concat(df_list, axis='columns')\n",
    "gas.head()"
   ]
  },
  {
   "cell_type": "code",
   "execution_count": null,
   "metadata": {
    "colab": {},
    "colab_type": "code",
    "id": "56eYMvnIyafX"
   },
   "outputs": [],
   "source": []
  }
 ],
 "metadata": {
  "colab": {
   "name": "merged.ipynb",
   "provenance": [],
   "version": "0.3.2"
  },
  "kernelspec": {
   "display_name": "Python 3",
   "language": "python",
   "name": "python3"
  },
  "language_info": {
   "codemirror_mode": {
    "name": "ipython",
    "version": 3
   },
   "file_extension": ".py",
   "mimetype": "text/x-python",
   "name": "python",
   "nbconvert_exporter": "python",
   "pygments_lexer": "ipython3",
   "version": "3.6.4"
  }
 },
 "nbformat": 4,
 "nbformat_minor": 1
}
